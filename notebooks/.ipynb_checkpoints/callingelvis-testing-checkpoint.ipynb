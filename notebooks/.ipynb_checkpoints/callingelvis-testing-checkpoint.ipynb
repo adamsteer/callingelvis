{
 "cells": [
  {
   "cell_type": "markdown",
   "metadata": {},
   "source": [
    "# Creating a function for calling ELVIS\n",
    "\n",
    "Inputs are:\n",
    "\n",
    "- bbox (required\n",
    "- year or year range (required)\n",
    "- jurisdiction / data collection (default all)\n",
    "- type (LIDAR or Photogrammetry or both)\n",
    "- height reference\n",
    "\n",
    "returns:\n",
    "- dictionary of file URLs\n",
    "- sorted by jurisdiction"
   ]
  },
  {
   "cell_type": "markdown",
   "metadata": {},
   "source": [
    "## Sample data return\n",
    "\n",
    "format: dictionary of dictionaries, with the datasets contained in a list-of-dictionaries\n",
    "\n",
    "\n",
    "```\n",
    "    {\n",
    "        {\"ACT Government\" : \n",
    "            { \"AHD\" : [ {\n",
    "                        'index_poly_name': '6586070',\n",
    "                        'file_name': 'ACT2015_4ppm-C3-AHD_6586070_55_0002_0002.zip',\n",
    "                        'file_url': 'https://s3-ap-southeast-2.amazonaws.com/act.elvis/Lidar/z55/ACT2015_4ppm-C3-AHD_6586070_55_0002_0002.zip',\n",
    "                        'file_size': '196205608',\n",
    "                        'file_last_modified': '20170616',\n",
    "                        'bbox': '148.74207269637532,-35.50100460313498,148.76372090731323,-35.48265938553811'\n",
    "                        },\n",
    "                        ...                                \n",
    "                        ],\n",
    "         \"Ellipsoidal\" : [ {\n",
    "                            'index_poly_name': '6606054',\n",
    "                            'file_name': 'ACT2015_4ppm-C3-ELL_6606054_55_0002_0002.zip',\n",
    "                            'file_url': 'https://s3-ap-southeast-2.amazonaws.com/act.elvis/Lidar/z55/ACT2015_4ppm-C3-ELL_6606054_55_0002_0002.zip',\n",
    "                            'file_size': '656868607',\n",
    "                            'file_last_modified': '20170619',\n",
    "                            'bbox': '148.76728008939003,-35.644880907252094,148.78895968493913,-35.626530623629115'\n",
    "                            },\n",
    "                            ...\n",
    "                            ]\n",
    "            }\n",
    "        },\n",
    "        {\n",
    "        \"NSW Government\" : \"No Data\"\n",
    "        }\n",
    "    }\n",
    "                                            \n",
    "```\n",
    "\n",
    "\n",
    "\n"
   ]
  },
  {
   "cell_type": "code",
   "execution_count": 79,
   "metadata": {},
   "outputs": [],
   "source": [
    "import requests\n",
    "import json\n",
    "\n",
    "from shapely.geometry import box\n",
    "from shapely.geometry import Polygon\n",
    "from shapely import wkt\n",
    "import pyproj\n",
    "\n",
    "import re\n",
    "\n",
    "\n",
    "#set elvis URL globally\n",
    "ELVISURL = \"https://elvis2018-ga.fmecloud.com/fmedatastreaming/elvis_indexes/ReturnDownloadables.fmw\"\n",
    "\n",
    "def listcollections(elvisresponse):\n",
    "    \"\"\"\n",
    "    Create a dictionary of 'data collections' in ELVIS, like:\n",
    "    {\n",
    "    0 : \"NSW Government\",\n",
    "    1 : \"ACT Government\",\n",
    "    ...\n",
    "    7 : \"Geoscience Audtralia\"\n",
    "    }\n",
    "    \n",
    "    this is used to filter collections later\n",
    "    \"\"\"\n",
    "    i = 0\n",
    "    collections = {}\n",
    "    while i < len(elvisresponse):\n",
    "        collections.update( {i : elvisresponse[i][\"source\"] } )\n",
    "        i+=1\n",
    "    return collections\n",
    "\n",
    "def pointcloudfilter(pointtype):\n",
    "    \"\"\"\n",
    "    Create a regexp filter for finding specific point cloud types.\n",
    "    \n",
    "    \"\"\"\n",
    "    if pointtype is None:\n",
    "        pointfilter = \".*\"\n",
    "        \n",
    "    elif pointtype == \"lidar\":\n",
    "        pointfilter = \"-LID|lidar\"\n",
    "        \n",
    "    elif pointtype == \"photo\":\n",
    "        pointfilter = \"-PHO\"\n",
    "     \n",
    "    return pointfilter\n",
    "\n",
    "def parseresponse(responsecontent, sourcekey, pointtype, heightref, year):\n",
    "    \"\"\"\n",
    "    Parse the ELVIS API response to assemble point cloud datasets into a dictionary organised\n",
    "    by source, then height reference, then collection type (lidar or photogrammetry)\n",
    "\n",
    "    \n",
    "    \"\"\"\n",
    "    datadict = {}\n",
    "    heightrefdict = {}\n",
    "    datalist = []\n",
    "        \n",
    "    #need to decide which point clouds to look for.\n",
    "\n",
    "    pointfilter = pointcloudfilter(pointtype)\n",
    "        \n",
    "    if \"downloadables\" in responsecontent[sourcekey]:\n",
    "        if \"Point Clouds\" in responsecontent[sourcekey][\"downloadables\"]:\n",
    "            #if no height ref is set\n",
    "            if heightref is None:\n",
    "                # we want to loop over each height ref dictionary\n",
    "                for height in responsecontent[sourcekey][\"downloadables\"][\"Point Clouds\"]:\n",
    "                    print(height)\n",
    "                    # and in each height ref dict\n",
    "                    for dataset in responsecontent[sourcekey][\"downloadables\"][\"Point Clouds\"][height]:\n",
    "                        #loop over the list-of-dicts and construct a filtered list-of-dicts\n",
    "                        if re.search(pointfilter, dataset[\"file_url\"], re.IGNORECASE):\n",
    "                            if year is not None and str(year) in dataset[\"file_url\"]:\n",
    "                                datalist.append(dataset)\n",
    "                            elif year is None:\n",
    "                                datalist.append(dataset)\n",
    "\n",
    "                    if datalist:\n",
    "                        datadict[\"height\"] = datalist\n",
    "                        datalist = []\n",
    "                    else:\n",
    "                        datadict = \"No data\"\n",
    "\n",
    "\n",
    "\n",
    "            else:\n",
    "                for height in responsecontent[sourcekey][\"downloadables\"][\"Point Clouds\"]:\n",
    "                    if heightref in height:\n",
    "                        for dataset in responsecontent[sourcekey][\"downloadables\"][\"Point Clouds\"][height]:\n",
    "                            if re.search(pointfilter, dataset[\"file_url\"], re.IGNORECASE):\n",
    "                                if year is not None and str(year) in dataset[\"file_url\"]:\n",
    "                                    datalist.append(dataset)\n",
    "                                elif year is None:\n",
    "                                    datalist.append(dataset)\n",
    "\n",
    "                        if datalist is not None:\n",
    "                            datadict[\"height\"] = datalist\n",
    "                            datalist = []\n",
    "                        else:\n",
    "                            datadict = \"No data\"\n",
    "                    \n",
    "                    \n",
    "        #if so, add the jurisdiction to the dict\n",
    "        #datasetdict.update( { \"source\" : value } )\n",
    "        #datasetdict.update( { \"downloadables\" : '' } )\n",
    "        \n",
    "        #return no data if there are no point clouds\n",
    "        else:\n",
    "            datadict = \"No data\"\n",
    "        \n",
    "    #...or no downloadables\n",
    "    else:\n",
    "        datadict = \"No data\"\n",
    "    \n",
    "    \n",
    "    #should return one dict per data source\n",
    "    return datadict\n",
    "\n",
    "    \n",
    "def callelvis(bbox, pointtype=None, collection=None, year=None, heightref=None):\n",
    "\n",
    "    datasetdict = {}\n",
    "\n",
    "    #https://elvis2018-ga.fmecloud.com/fmedatastreaming/elvis_indexes/ReturnDownloadables.fmw\n",
    "    \n",
    "    # elvisurl = \"https://elvis2018-ga.fmecloud.com/fmedatastreaming/elvis_indexes/ReturnDownloadables.fmw\"\n",
    "    # WCS-style bounding box [xmin, ymin, xmax, ymax] declaration to query the system:\n",
    "    \n",
    "    #[148.77, -36.35, 148.78, -35.34]\n",
    "    \n",
    "    print(bbox)\n",
    "    bbox = box(bbox[0], bbox[1], bbox[2], bbox[3],ccw=True)\n",
    "    \n",
    "    querybox = wkt.dumps(Polygon(bbox), trim=True)\n",
    "    querybox = querybox.replace('POLYGON ', 'POLYGON')\n",
    "    querybox = querybox.replace(', ', ',')\n",
    "    \n",
    "    elvisparams = \"polygon=\" + querybox\n",
    "    print(elvisparams)\n",
    "    \n",
    "    \"\"\"\n",
    "    elvisparams = {\n",
    "        \"ymin\": bbox[1],\n",
    "        \"ymax\": bbox[3],\n",
    "        \"xmin\": bbox[0],\n",
    "        \"xmax\": bbox[2]\n",
    "        }\n",
    "    \"\"\"\n",
    "    \n",
    "    # get a JSON response from ELVIS\n",
    "    apiresponse = requests.get(ELVISURL, params=elvisparams)\n",
    "    print(apiresponse.url)\n",
    "    \n",
    "    responsecontent = json.loads(apiresponse.content)\n",
    "    \n",
    "    #bump off one level, we dont need it\n",
    "    responsecontent = responsecontent[\"available_data\"]\n",
    "    \n",
    "    #create a dictionary of collections / data owners\n",
    "    collections = listcollections(responsecontent)\n",
    "\n",
    "    # if collection is default / None, we want all the data\n",
    "    if collection is None:\n",
    "        # loop over each of the 8 collection agencies...\n",
    "        # this sets up the {\"source\": ... } level\n",
    "        # ...where 'source' is the jurisdiction name\n",
    "        \n",
    "        for key, value in collections.items():\n",
    "            \n",
    "            thedatasets = parseresponse(responsecontent, key, pointtype, heightref, year)\n",
    "            \n",
    "            datasetdict.update( {value : thedatasets })\n",
    "            \n",
    "    # otherwise, we want a limited subset of collections\n",
    "    else:\n",
    "        for key, value in collections.items():\n",
    "            if collection in value:\n",
    "                thedatasets = parseresponse(responsecontent, key, pointtype, heightref, year)\n",
    "                # if there are downloadables...\n",
    "                datasetdict.update({ value : thedatasets })\n",
    "            \n",
    "    \n",
    "    #how shall we return the result? A list of datasets in by-region dicts    \n",
    "    return datasetdict\n",
    "    "
   ]
  },
  {
   "cell_type": "code",
   "execution_count": 80,
   "metadata": {},
   "outputs": [
    {
     "name": "stdout",
     "output_type": "stream",
     "text": [
      "[148.77, -36.35, 148.78, -35.34]\n",
      "polygon=POLYGON((148.78 -36.35,148.78 -35.34,148.77 -35.34,148.77 -36.35,148.78 -36.35))\n",
      "https://elvis2018-ga.fmecloud.com/fmedatastreaming/elvis_indexes/ReturnDownloadables.fmw?polygon=POLYGON((148.78%20-36.35,148.78%20-35.34,148.77%20-35.34,148.77%20-36.35,148.78%20-36.35))\n",
      "AHD\n",
      "AHD\n",
      "Ellipsoidal\n",
      "CPU times: user 22.3 ms, sys: 47 ms, total: 69.3 ms\n",
      "Wall time: 3.52 s\n"
     ]
    }
   ],
   "source": [
    "%%time\n",
    "\n",
    "# get all the data for all of time in this bbox\n",
    "result = callelvis([148.77, -36.35, 148.78, -35.34])"
   ]
  },
  {
   "cell_type": "code",
   "execution_count": 81,
   "metadata": {},
   "outputs": [
    {
     "data": {
      "text/plain": [
       "{'height': [{'index_poly_name': '6606046',\n",
       "   'file_name': 'ACT2015_4ppm-C3-ELL_6606046_55_0002_0002.zip',\n",
       "   'file_url': 'https://s3-ap-southeast-2.amazonaws.com/act.elvis/Lidar/z55/ACT2015_4ppm-C3-ELL_6606046_55_0002_0002.zip',\n",
       "   'file_size': '474210341',\n",
       "   'file_last_modified': '20170619',\n",
       "   'bbox': '148.76887110014735,-35.7169778567827,148.79056911937633,-35.698626943144134'},\n",
       "  {'index_poly_name': '6606048',\n",
       "   'file_name': 'ACT2015_4ppm-C3-ELL_6606048_55_0002_0002.zip',\n",
       "   'file_url': 'https://s3-ap-southeast-2.amazonaws.com/act.elvis/Lidar/z55/ACT2015_4ppm-C3-ELL_6606048_55_0002_0002.zip',\n",
       "   'file_size': '488758105',\n",
       "   'file_last_modified': '20170619',\n",
       "   'bbox': '148.7684728175661,-35.6989537062952,148.79016622474904,-35.68060295028003'},\n",
       "  {'index_poly_name': '6606050',\n",
       "   'file_name': 'ACT2015_4ppm-C3-ELL_6606050_55_0002_0002.zip',\n",
       "   'file_url': 'https://s3-ap-southeast-2.amazonaws.com/act.elvis/Lidar/z55/ACT2015_4ppm-C3-ELL_6606050_55_0002_0002.zip',\n",
       "   'file_size': '534621101',\n",
       "   'file_last_modified': '20170619',\n",
       "   'bbox': '148.7680748884568,-35.68092949786726,148.78976368768002,-35.66257889939573'},\n",
       "  {'index_poly_name': '6606052',\n",
       "   'file_name': 'ACT2015_4ppm-C3-ELL_6606052_55_0002_0002.zip',\n",
       "   'file_url': 'https://s3-ap-southeast-2.amazonaws.com/act.elvis/Lidar/z55/ACT2015_4ppm-C3-ELL_6606052_55_0002_0002.zip',\n",
       "   'file_size': '521902740',\n",
       "   'file_last_modified': '20170619',\n",
       "   'bbox': '148.76767731250334,-35.66290523151438,148.78936150784978,-35.64455479050688'},\n",
       "  {'index_poly_name': '6606054',\n",
       "   'file_name': 'ACT2015_4ppm-C3-ELL_6606054_55_0002_0002.zip',\n",
       "   'file_url': 'https://s3-ap-southeast-2.amazonaws.com/act.elvis/Lidar/z55/ACT2015_4ppm-C3-ELL_6606054_55_0002_0002.zip',\n",
       "   'file_size': '656868607',\n",
       "   'file_last_modified': '20170619',\n",
       "   'bbox': '148.76728008939003,-35.644880907252094,148.78895968493913,-35.626530623629115'},\n",
       "  {'index_poly_name': '6606056',\n",
       "   'file_name': 'ACT2015_4ppm-C3-ELL_6606056_55_0002_0002.zip',\n",
       "   'file_url': 'https://s3-ap-southeast-2.amazonaws.com/act.elvis/Lidar/z55/ACT2015_4ppm-C3-ELL_6606056_55_0002_0002.zip',\n",
       "   'file_size': '582905476',\n",
       "   'file_last_modified': '20170619',\n",
       "   'bbox': '148.76688321880172,-35.62685652509594,148.7885582186294,-35.60850639877812'},\n",
       "  {'index_poly_name': '6606058',\n",
       "   'file_name': 'ACT2015_4ppm-C3-ELL_6606058_55_0002_0002.zip',\n",
       "   'file_url': 'https://s3-ap-southeast-2.amazonaws.com/act.elvis/Lidar/z55/ACT2015_4ppm-C3-ELL_6606058_55_0002_0002.zip',\n",
       "   'file_size': '470338212',\n",
       "   'file_last_modified': '20170619',\n",
       "   'bbox': '148.76648670042363,-35.60883208506148,148.78815710860232,-35.59048211596956'},\n",
       "  {'index_poly_name': '6606060',\n",
       "   'file_name': 'ACT2015_4ppm-C3-ELL_6606060_55_0002_0002.zip',\n",
       "   'file_url': 'https://s3-ap-southeast-2.amazonaws.com/act.elvis/Lidar/z55/ACT2015_4ppm-C3-ELL_6606060_55_0002_0002.zip',\n",
       "   'file_size': '569926075',\n",
       "   'file_last_modified': '20170619',\n",
       "   'bbox': '148.76609053394134,-35.59080758716428,148.78775635454016,-35.57245777521914'},\n",
       "  {'index_poly_name': '6606062',\n",
       "   'file_name': 'ACT2015_4ppm-C3-ELL_6606062_55_0002_0002.zip',\n",
       "   'file_url': 'https://s3-ap-southeast-2.amazonaws.com/act.elvis/Lidar/z55/ACT2015_4ppm-C3-ELL_6606062_55_0002_0002.zip',\n",
       "   'file_size': '599112885',\n",
       "   'file_last_modified': '20170619',\n",
       "   'bbox': '148.76569471904105,-35.57278303141995,148.78735595612548,-35.55443337654258'},\n",
       "  {'index_poly_name': '6606064',\n",
       "   'file_name': 'ACT2015_4ppm-C3-ELL_6606064_55_0002_0002.zip',\n",
       "   'file_url': 'https://s3-ap-southeast-2.amazonaws.com/act.elvis/Lidar/z55/ACT2015_4ppm-C3-ELL_6606064_55_0002_0002.zip',\n",
       "   'file_size': '734991122',\n",
       "   'file_last_modified': '20170619',\n",
       "   'bbox': '148.76529925540927,-35.55475841784409,148.7869559130414,-35.53640891995562'},\n",
       "  {'index_poly_name': '6606066',\n",
       "   'file_name': 'ACT2015_4ppm-C3-ELL_6606066_55_0002_0002.zip',\n",
       "   'file_url': 'https://s3-ap-southeast-2.amazonaws.com/act.elvis/Lidar/z55/ACT2015_4ppm-C3-ELL_6606066_55_0002_0002.zip',\n",
       "   'file_size': '584774696',\n",
       "   'file_last_modified': '20170619',\n",
       "   'bbox': '148.76490414273297,-35.53673374645233,148.78655622497143,-35.51838440547398'},\n",
       "  {'index_poly_name': '6606068',\n",
       "   'file_name': 'ACT2015_4ppm-C3-ELL_6606068_55_0002_0002.zip',\n",
       "   'file_url': 'https://s3-ap-southeast-2.amazonaws.com/act.elvis/Lidar/z55/ACT2015_4ppm-C3-ELL_6606068_55_0002_0002.zip',\n",
       "   'file_size': '648198911',\n",
       "   'file_last_modified': '20170619',\n",
       "   'bbox': '148.76450938069956,-35.518709017260306,148.78615689159955,-35.50035983311344'},\n",
       "  {'index_poly_name': '6606070',\n",
       "   'file_name': 'ACT2015_4ppm-C3-ELL_6606070_55_0002_0002.zip',\n",
       "   'file_url': 'https://s3-ap-southeast-2.amazonaws.com/act.elvis/Lidar/z55/ACT2015_4ppm-C3-ELL_6606070_55_0002_0002.zip',\n",
       "   'file_size': '661929272',\n",
       "   'file_last_modified': '20170619',\n",
       "   'bbox': '148.7641149689969,-35.50068423028367,148.78575791261014,-35.48233520288979'},\n",
       "  {'index_poly_name': '6606072',\n",
       "   'file_name': 'ACT2015_4ppm-C3-ELL_6606072_55_0002_0002.zip',\n",
       "   'file_url': 'https://s3-ap-southeast-2.amazonaws.com/act.elvis/Lidar/z55/ACT2015_4ppm-C3-ELL_6606072_55_0002_0002.zip',\n",
       "   'file_size': '599651994',\n",
       "   'file_last_modified': '20170619',\n",
       "   'bbox': '148.76372090731323,-35.48265938553811,148.78535928768807,-35.46431051481881'},\n",
       "  {'index_poly_name': '6606074',\n",
       "   'file_name': 'ACT2015_4ppm-C3-ELL_6606074_55_0002_0002.zip',\n",
       "   'file_url': 'https://s3-ap-southeast-2.amazonaws.com/act.elvis/Lidar/z55/ACT2015_4ppm-C3-ELL_6606074_55_0002_0002.zip',\n",
       "   'file_size': '576988807',\n",
       "   'file_last_modified': '20170619',\n",
       "   'bbox': '148.76332719533733,-35.464634483039305,148.78496101651857,-35.44628576891631'},\n",
       "  {'index_poly_name': '6606076',\n",
       "   'file_name': 'ACT2015_4ppm-C3-ELL_6606076_55_0002_0002.zip',\n",
       "   'file_url': 'https://s3-ap-southeast-2.amazonaws.com/act.elvis/Lidar/z55/ACT2015_4ppm-C3-ELL_6606076_55_0002_0002.zip',\n",
       "   'file_size': '671057996',\n",
       "   'file_last_modified': '20170619',\n",
       "   'bbox': '148.76293383275822,-35.44660952280296,148.78456309878734,-35.42826096519814'},\n",
       "  {'index_poly_name': '6606078',\n",
       "   'file_name': 'ACT2015_4ppm-C3-ELL_6606078_55_0002_0002.zip',\n",
       "   'file_url': 'https://s3-ap-southeast-2.amazonaws.com/act.elvis/Lidar/z55/ACT2015_4ppm-C3-ELL_6606078_55_0002_0002.zip',\n",
       "   'file_size': '552700800',\n",
       "   'file_last_modified': '20170619',\n",
       "   'bbox': '148.7625408192656,-35.42858450484482,148.7841655341806,-35.41023610368013'},\n",
       "  {'index_poly_name': '6606080',\n",
       "   'file_name': 'ACT2015_4ppm-C3-ELL_6606080_55_0002_0002.zip',\n",
       "   'file_url': 'https://s3-ap-southeast-2.amazonaws.com/act.elvis/Lidar/z55/ACT2015_4ppm-C3-ELL_6606080_55_0002_0002.zip',\n",
       "   'file_size': '504592492',\n",
       "   'file_last_modified': '20170619',\n",
       "   'bbox': '148.76214815454938,-35.4105594291806,148.78376832238487,-35.39221118437813'}]}"
      ]
     },
     "execution_count": 81,
     "metadata": {},
     "output_type": "execute_result"
    }
   ],
   "source": [
    "result[\"ACT Government\"]"
   ]
  },
  {
   "cell_type": "code",
   "execution_count": 115,
   "metadata": {},
   "outputs": [
    {
     "name": "stdout",
     "output_type": "stream",
     "text": [
      "AHD\n",
      "Ellipsoidal\n",
      "CPU times: user 22.4 ms, sys: 2.63 ms, total: 25.1 ms\n",
      "Wall time: 1.71 s\n"
     ]
    }
   ],
   "source": [
    "%%time\n",
    "# get all the data from the ACT for all of time in this bbox\n",
    "result = callelvis([148.77, -36.35, 148.78, -35.34], collection=\"ACT\")"
   ]
  },
  {
   "cell_type": "code",
   "execution_count": 116,
   "metadata": {},
   "outputs": [
    {
     "data": {
      "text/plain": [
       "dict_keys(['AHD', 'Ellipsoidal'])"
      ]
     },
     "execution_count": 116,
     "metadata": {},
     "output_type": "execute_result"
    }
   ],
   "source": [
    "result[\"ACT Government\"].keys()"
   ]
  },
  {
   "cell_type": "code",
   "execution_count": 117,
   "metadata": {},
   "outputs": [
    {
     "data": {
      "text/plain": [
       "{'ACT Government': {'AHD': [{'index_poly_name': '6586070',\n",
       "    'file_name': 'ACT2015_4ppm-C3-AHD_6586070_55_0002_0002.zip',\n",
       "    'file_url': 'https://s3-ap-southeast-2.amazonaws.com/act.elvis/Lidar/z55/ACT2015_4ppm-C3-AHD_6586070_55_0002_0002.zip',\n",
       "    'file_size': '196205608',\n",
       "    'file_last_modified': '20170616',\n",
       "    'bbox': '148.74207269637532,-35.50100460313498,148.76372090731323,-35.48265938553811'},\n",
       "   {'index_poly_name': '6606046',\n",
       "    'file_name': 'ACT2015_4ppm-C3-AHD_6606046_55_0002_0002.zip',\n",
       "    'file_url': 'https://s3-ap-southeast-2.amazonaws.com/act.elvis/Lidar/z55/ACT2015_4ppm-C3-AHD_6606046_55_0002_0002.zip',\n",
       "    'file_size': '475693565',\n",
       "    'file_last_modified': '20170616',\n",
       "    'bbox': '148.76887110014735,-35.7169778567827,148.79056911937633,-35.698626943144134'},\n",
       "   {'index_poly_name': '6606048',\n",
       "    'file_name': 'ACT2015_4ppm-C3-AHD_6606048_55_0002_0002.zip',\n",
       "    'file_url': 'https://s3-ap-southeast-2.amazonaws.com/act.elvis/Lidar/z55/ACT2015_4ppm-C3-AHD_6606048_55_0002_0002.zip',\n",
       "    'file_size': '490738661',\n",
       "    'file_last_modified': '20170616',\n",
       "    'bbox': '148.7684728175661,-35.6989537062952,148.79016622474904,-35.68060295028003'},\n",
       "   {'index_poly_name': '6606050',\n",
       "    'file_name': 'ACT2015_4ppm-C3-AHD_6606050_55_0002_0002.zip',\n",
       "    'file_url': 'https://s3-ap-southeast-2.amazonaws.com/act.elvis/Lidar/z55/ACT2015_4ppm-C3-AHD_6606050_55_0002_0002.zip',\n",
       "    'file_size': '536614129',\n",
       "    'file_last_modified': '20170616',\n",
       "    'bbox': '148.7680748884568,-35.68092949786726,148.78976368768002,-35.66257889939573'},\n",
       "   {'index_poly_name': '6606052',\n",
       "    'file_name': 'ACT2015_4ppm-C3-AHD_6606052_55_0002_0002.zip',\n",
       "    'file_url': 'https://s3-ap-southeast-2.amazonaws.com/act.elvis/Lidar/z55/ACT2015_4ppm-C3-AHD_6606052_55_0002_0002.zip',\n",
       "    'file_size': '523486187',\n",
       "    'file_last_modified': '20170616',\n",
       "    'bbox': '148.76767731250334,-35.66290523151438,148.78936150784978,-35.64455479050688'},\n",
       "   {'index_poly_name': '6606054',\n",
       "    'file_name': 'ACT2015_4ppm-C3-AHD_6606054_55_0002_0002.zip',\n",
       "    'file_url': 'https://s3-ap-southeast-2.amazonaws.com/act.elvis/Lidar/z55/ACT2015_4ppm-C3-AHD_6606054_55_0002_0002.zip',\n",
       "    'file_size': '658702075',\n",
       "    'file_last_modified': '20170616',\n",
       "    'bbox': '148.76728008939003,-35.644880907252094,148.78895968493913,-35.626530623629115'},\n",
       "   {'index_poly_name': '6606056',\n",
       "    'file_name': 'ACT2015_4ppm-C3-AHD_6606056_55_0002_0002.zip',\n",
       "    'file_url': 'https://s3-ap-southeast-2.amazonaws.com/act.elvis/Lidar/z55/ACT2015_4ppm-C3-AHD_6606056_55_0002_0002.zip',\n",
       "    'file_size': '585065332',\n",
       "    'file_last_modified': '20170616',\n",
       "    'bbox': '148.76688321880172,-35.62685652509594,148.7885582186294,-35.60850639877812'},\n",
       "   {'index_poly_name': '6606058',\n",
       "    'file_name': 'ACT2015_4ppm-C3-AHD_6606058_55_0002_0002.zip',\n",
       "    'file_url': 'https://s3-ap-southeast-2.amazonaws.com/act.elvis/Lidar/z55/ACT2015_4ppm-C3-AHD_6606058_55_0002_0002.zip',\n",
       "    'file_size': '471926853',\n",
       "    'file_last_modified': '20170616',\n",
       "    'bbox': '148.76648670042363,-35.60883208506148,148.78815710860232,-35.59048211596956'},\n",
       "   {'index_poly_name': '6606060',\n",
       "    'file_name': 'ACT2015_4ppm-C3-AHD_6606060_55_0002_0002.zip',\n",
       "    'file_url': 'https://s3-ap-southeast-2.amazonaws.com/act.elvis/Lidar/z55/ACT2015_4ppm-C3-AHD_6606060_55_0002_0002.zip',\n",
       "    'file_size': '571515423',\n",
       "    'file_last_modified': '20170616',\n",
       "    'bbox': '148.76609053394134,-35.59080758716428,148.78775635454016,-35.57245777521914'},\n",
       "   {'index_poly_name': '6606062',\n",
       "    'file_name': 'ACT2015_4ppm-C3-AHD_6606062_55_0002_0002.zip',\n",
       "    'file_url': 'https://s3-ap-southeast-2.amazonaws.com/act.elvis/Lidar/z55/ACT2015_4ppm-C3-AHD_6606062_55_0002_0002.zip',\n",
       "    'file_size': '601262316',\n",
       "    'file_last_modified': '20170616',\n",
       "    'bbox': '148.76569471904105,-35.57278303141995,148.78735595612548,-35.55443337654258'},\n",
       "   {'index_poly_name': '6606064',\n",
       "    'file_name': 'ACT2015_4ppm-C3-AHD_6606064_55_0002_0002.zip',\n",
       "    'file_url': 'https://s3-ap-southeast-2.amazonaws.com/act.elvis/Lidar/z55/ACT2015_4ppm-C3-AHD_6606064_55_0002_0002.zip',\n",
       "    'file_size': '738166486',\n",
       "    'file_last_modified': '20170616',\n",
       "    'bbox': '148.76529925540927,-35.55475841784409,148.7869559130414,-35.53640891995562'},\n",
       "   {'index_poly_name': '6606066',\n",
       "    'file_name': 'ACT2015_4ppm-C3-AHD_6606066_55_0002_0002.zip',\n",
       "    'file_url': 'https://s3-ap-southeast-2.amazonaws.com/act.elvis/Lidar/z55/ACT2015_4ppm-C3-AHD_6606066_55_0002_0002.zip',\n",
       "    'file_size': '586943977',\n",
       "    'file_last_modified': '20170616',\n",
       "    'bbox': '148.76490414273297,-35.53673374645233,148.78655622497143,-35.51838440547398'},\n",
       "   {'index_poly_name': '6606068',\n",
       "    'file_name': 'ACT2015_4ppm-C3-AHD_6606068_55_0002_0002.zip',\n",
       "    'file_url': 'https://s3-ap-southeast-2.amazonaws.com/act.elvis/Lidar/z55/ACT2015_4ppm-C3-AHD_6606068_55_0002_0002.zip',\n",
       "    'file_size': '651457940',\n",
       "    'file_last_modified': '20170616',\n",
       "    'bbox': '148.76450938069956,-35.518709017260306,148.78615689159955,-35.50035983311344'},\n",
       "   {'index_poly_name': '6606070',\n",
       "    'file_name': 'ACT2015_4ppm-C3-AHD_6606070_55_0002_0002.zip',\n",
       "    'file_url': 'https://s3-ap-southeast-2.amazonaws.com/act.elvis/Lidar/z55/ACT2015_4ppm-C3-AHD_6606070_55_0002_0002.zip',\n",
       "    'file_size': '667010944',\n",
       "    'file_last_modified': '20170616',\n",
       "    'bbox': '148.7641149689969,-35.50068423028367,148.78575791261014,-35.48233520288979'},\n",
       "   {'index_poly_name': '6606072',\n",
       "    'file_name': 'ACT2015_4ppm-C3-AHD_6606072_55_0002_0002.zip',\n",
       "    'file_url': 'https://s3-ap-southeast-2.amazonaws.com/act.elvis/Lidar/z55/ACT2015_4ppm-C3-AHD_6606072_55_0002_0002.zip',\n",
       "    'file_size': '602978742',\n",
       "    'file_last_modified': '20170616',\n",
       "    'bbox': '148.76372090731323,-35.48265938553811,148.78535928768807,-35.46431051481881'},\n",
       "   {'index_poly_name': '6606074',\n",
       "    'file_name': 'ACT2015_4ppm-C3-AHD_6606074_55_0002_0002.zip',\n",
       "    'file_url': 'https://s3-ap-southeast-2.amazonaws.com/act.elvis/Lidar/z55/ACT2015_4ppm-C3-AHD_6606074_55_0002_0002.zip',\n",
       "    'file_size': '579257871',\n",
       "    'file_last_modified': '20170616',\n",
       "    'bbox': '148.76332719533733,-35.464634483039305,148.78496101651857,-35.44628576891631'},\n",
       "   {'index_poly_name': '6606076',\n",
       "    'file_name': 'ACT2015_4ppm-C3-AHD_6606076_55_0002_0002.zip',\n",
       "    'file_url': 'https://s3-ap-southeast-2.amazonaws.com/act.elvis/Lidar/z55/ACT2015_4ppm-C3-AHD_6606076_55_0002_0002.zip',\n",
       "    'file_size': '673958948',\n",
       "    'file_last_modified': '20170616',\n",
       "    'bbox': '148.76293383275822,-35.44660952280296,148.78456309878734,-35.42826096519814'},\n",
       "   {'index_poly_name': '6606078',\n",
       "    'file_name': 'ACT2015_4ppm-C3-AHD_6606078_55_0002_0002.zip',\n",
       "    'file_url': 'https://s3-ap-southeast-2.amazonaws.com/act.elvis/Lidar/z55/ACT2015_4ppm-C3-AHD_6606078_55_0002_0002.zip',\n",
       "    'file_size': '555183789',\n",
       "    'file_last_modified': '20170616',\n",
       "    'bbox': '148.7625408192656,-35.42858450484482,148.7841655341806,-35.41023610368013'},\n",
       "   {'index_poly_name': '6606080',\n",
       "    'file_name': 'ACT2015_4ppm-C3-AHD_6606080_55_0002_0002.zip',\n",
       "    'file_url': 'https://s3-ap-southeast-2.amazonaws.com/act.elvis/Lidar/z55/ACT2015_4ppm-C3-AHD_6606080_55_0002_0002.zip',\n",
       "    'file_size': '506818424',\n",
       "    'file_last_modified': '20170616',\n",
       "    'bbox': '148.76214815454938,-35.4105594291806,148.78376832238487,-35.39221118437813'}],\n",
       "  'Ellipsoidal': [{'index_poly_name': '6586070',\n",
       "    'file_name': 'ACT2015_4ppm-C3-ELL_6586070_55_0002_0002.zip',\n",
       "    'file_url': 'https://s3-ap-southeast-2.amazonaws.com/act.elvis/Lidar/z55/ACT2015_4ppm-C3-ELL_6586070_55_0002_0002.zip',\n",
       "    'file_size': '194572295',\n",
       "    'file_last_modified': '20170619',\n",
       "    'bbox': '148.74207269637532,-35.50100460313498,148.76372090731323,-35.48265938553811'},\n",
       "   {'index_poly_name': '6606046',\n",
       "    'file_name': 'ACT2015_4ppm-C3-ELL_6606046_55_0002_0002.zip',\n",
       "    'file_url': 'https://s3-ap-southeast-2.amazonaws.com/act.elvis/Lidar/z55/ACT2015_4ppm-C3-ELL_6606046_55_0002_0002.zip',\n",
       "    'file_size': '474210341',\n",
       "    'file_last_modified': '20170619',\n",
       "    'bbox': '148.76887110014735,-35.7169778567827,148.79056911937633,-35.698626943144134'},\n",
       "   {'index_poly_name': '6606048',\n",
       "    'file_name': 'ACT2015_4ppm-C3-ELL_6606048_55_0002_0002.zip',\n",
       "    'file_url': 'https://s3-ap-southeast-2.amazonaws.com/act.elvis/Lidar/z55/ACT2015_4ppm-C3-ELL_6606048_55_0002_0002.zip',\n",
       "    'file_size': '488758105',\n",
       "    'file_last_modified': '20170619',\n",
       "    'bbox': '148.7684728175661,-35.6989537062952,148.79016622474904,-35.68060295028003'},\n",
       "   {'index_poly_name': '6606050',\n",
       "    'file_name': 'ACT2015_4ppm-C3-ELL_6606050_55_0002_0002.zip',\n",
       "    'file_url': 'https://s3-ap-southeast-2.amazonaws.com/act.elvis/Lidar/z55/ACT2015_4ppm-C3-ELL_6606050_55_0002_0002.zip',\n",
       "    'file_size': '534621101',\n",
       "    'file_last_modified': '20170619',\n",
       "    'bbox': '148.7680748884568,-35.68092949786726,148.78976368768002,-35.66257889939573'},\n",
       "   {'index_poly_name': '6606052',\n",
       "    'file_name': 'ACT2015_4ppm-C3-ELL_6606052_55_0002_0002.zip',\n",
       "    'file_url': 'https://s3-ap-southeast-2.amazonaws.com/act.elvis/Lidar/z55/ACT2015_4ppm-C3-ELL_6606052_55_0002_0002.zip',\n",
       "    'file_size': '521902740',\n",
       "    'file_last_modified': '20170619',\n",
       "    'bbox': '148.76767731250334,-35.66290523151438,148.78936150784978,-35.64455479050688'},\n",
       "   {'index_poly_name': '6606054',\n",
       "    'file_name': 'ACT2015_4ppm-C3-ELL_6606054_55_0002_0002.zip',\n",
       "    'file_url': 'https://s3-ap-southeast-2.amazonaws.com/act.elvis/Lidar/z55/ACT2015_4ppm-C3-ELL_6606054_55_0002_0002.zip',\n",
       "    'file_size': '656868607',\n",
       "    'file_last_modified': '20170619',\n",
       "    'bbox': '148.76728008939003,-35.644880907252094,148.78895968493913,-35.626530623629115'},\n",
       "   {'index_poly_name': '6606056',\n",
       "    'file_name': 'ACT2015_4ppm-C3-ELL_6606056_55_0002_0002.zip',\n",
       "    'file_url': 'https://s3-ap-southeast-2.amazonaws.com/act.elvis/Lidar/z55/ACT2015_4ppm-C3-ELL_6606056_55_0002_0002.zip',\n",
       "    'file_size': '582905476',\n",
       "    'file_last_modified': '20170619',\n",
       "    'bbox': '148.76688321880172,-35.62685652509594,148.7885582186294,-35.60850639877812'},\n",
       "   {'index_poly_name': '6606058',\n",
       "    'file_name': 'ACT2015_4ppm-C3-ELL_6606058_55_0002_0002.zip',\n",
       "    'file_url': 'https://s3-ap-southeast-2.amazonaws.com/act.elvis/Lidar/z55/ACT2015_4ppm-C3-ELL_6606058_55_0002_0002.zip',\n",
       "    'file_size': '470338212',\n",
       "    'file_last_modified': '20170619',\n",
       "    'bbox': '148.76648670042363,-35.60883208506148,148.78815710860232,-35.59048211596956'},\n",
       "   {'index_poly_name': '6606060',\n",
       "    'file_name': 'ACT2015_4ppm-C3-ELL_6606060_55_0002_0002.zip',\n",
       "    'file_url': 'https://s3-ap-southeast-2.amazonaws.com/act.elvis/Lidar/z55/ACT2015_4ppm-C3-ELL_6606060_55_0002_0002.zip',\n",
       "    'file_size': '569926075',\n",
       "    'file_last_modified': '20170619',\n",
       "    'bbox': '148.76609053394134,-35.59080758716428,148.78775635454016,-35.57245777521914'},\n",
       "   {'index_poly_name': '6606062',\n",
       "    'file_name': 'ACT2015_4ppm-C3-ELL_6606062_55_0002_0002.zip',\n",
       "    'file_url': 'https://s3-ap-southeast-2.amazonaws.com/act.elvis/Lidar/z55/ACT2015_4ppm-C3-ELL_6606062_55_0002_0002.zip',\n",
       "    'file_size': '599112885',\n",
       "    'file_last_modified': '20170619',\n",
       "    'bbox': '148.76569471904105,-35.57278303141995,148.78735595612548,-35.55443337654258'},\n",
       "   {'index_poly_name': '6606064',\n",
       "    'file_name': 'ACT2015_4ppm-C3-ELL_6606064_55_0002_0002.zip',\n",
       "    'file_url': 'https://s3-ap-southeast-2.amazonaws.com/act.elvis/Lidar/z55/ACT2015_4ppm-C3-ELL_6606064_55_0002_0002.zip',\n",
       "    'file_size': '734991122',\n",
       "    'file_last_modified': '20170619',\n",
       "    'bbox': '148.76529925540927,-35.55475841784409,148.7869559130414,-35.53640891995562'},\n",
       "   {'index_poly_name': '6606066',\n",
       "    'file_name': 'ACT2015_4ppm-C3-ELL_6606066_55_0002_0002.zip',\n",
       "    'file_url': 'https://s3-ap-southeast-2.amazonaws.com/act.elvis/Lidar/z55/ACT2015_4ppm-C3-ELL_6606066_55_0002_0002.zip',\n",
       "    'file_size': '584774696',\n",
       "    'file_last_modified': '20170619',\n",
       "    'bbox': '148.76490414273297,-35.53673374645233,148.78655622497143,-35.51838440547398'},\n",
       "   {'index_poly_name': '6606068',\n",
       "    'file_name': 'ACT2015_4ppm-C3-ELL_6606068_55_0002_0002.zip',\n",
       "    'file_url': 'https://s3-ap-southeast-2.amazonaws.com/act.elvis/Lidar/z55/ACT2015_4ppm-C3-ELL_6606068_55_0002_0002.zip',\n",
       "    'file_size': '648198911',\n",
       "    'file_last_modified': '20170619',\n",
       "    'bbox': '148.76450938069956,-35.518709017260306,148.78615689159955,-35.50035983311344'},\n",
       "   {'index_poly_name': '6606070',\n",
       "    'file_name': 'ACT2015_4ppm-C3-ELL_6606070_55_0002_0002.zip',\n",
       "    'file_url': 'https://s3-ap-southeast-2.amazonaws.com/act.elvis/Lidar/z55/ACT2015_4ppm-C3-ELL_6606070_55_0002_0002.zip',\n",
       "    'file_size': '661929272',\n",
       "    'file_last_modified': '20170619',\n",
       "    'bbox': '148.7641149689969,-35.50068423028367,148.78575791261014,-35.48233520288979'},\n",
       "   {'index_poly_name': '6606072',\n",
       "    'file_name': 'ACT2015_4ppm-C3-ELL_6606072_55_0002_0002.zip',\n",
       "    'file_url': 'https://s3-ap-southeast-2.amazonaws.com/act.elvis/Lidar/z55/ACT2015_4ppm-C3-ELL_6606072_55_0002_0002.zip',\n",
       "    'file_size': '599651994',\n",
       "    'file_last_modified': '20170619',\n",
       "    'bbox': '148.76372090731323,-35.48265938553811,148.78535928768807,-35.46431051481881'},\n",
       "   {'index_poly_name': '6606074',\n",
       "    'file_name': 'ACT2015_4ppm-C3-ELL_6606074_55_0002_0002.zip',\n",
       "    'file_url': 'https://s3-ap-southeast-2.amazonaws.com/act.elvis/Lidar/z55/ACT2015_4ppm-C3-ELL_6606074_55_0002_0002.zip',\n",
       "    'file_size': '576988807',\n",
       "    'file_last_modified': '20170619',\n",
       "    'bbox': '148.76332719533733,-35.464634483039305,148.78496101651857,-35.44628576891631'},\n",
       "   {'index_poly_name': '6606076',\n",
       "    'file_name': 'ACT2015_4ppm-C3-ELL_6606076_55_0002_0002.zip',\n",
       "    'file_url': 'https://s3-ap-southeast-2.amazonaws.com/act.elvis/Lidar/z55/ACT2015_4ppm-C3-ELL_6606076_55_0002_0002.zip',\n",
       "    'file_size': '671057996',\n",
       "    'file_last_modified': '20170619',\n",
       "    'bbox': '148.76293383275822,-35.44660952280296,148.78456309878734,-35.42826096519814'},\n",
       "   {'index_poly_name': '6606078',\n",
       "    'file_name': 'ACT2015_4ppm-C3-ELL_6606078_55_0002_0002.zip',\n",
       "    'file_url': 'https://s3-ap-southeast-2.amazonaws.com/act.elvis/Lidar/z55/ACT2015_4ppm-C3-ELL_6606078_55_0002_0002.zip',\n",
       "    'file_size': '552700800',\n",
       "    'file_last_modified': '20170619',\n",
       "    'bbox': '148.7625408192656,-35.42858450484482,148.7841655341806,-35.41023610368013'},\n",
       "   {'index_poly_name': '6606080',\n",
       "    'file_name': 'ACT2015_4ppm-C3-ELL_6606080_55_0002_0002.zip',\n",
       "    'file_url': 'https://s3-ap-southeast-2.amazonaws.com/act.elvis/Lidar/z55/ACT2015_4ppm-C3-ELL_6606080_55_0002_0002.zip',\n",
       "    'file_size': '504592492',\n",
       "    'file_last_modified': '20170619',\n",
       "    'bbox': '148.76214815454938,-35.4105594291806,148.78376832238487,-35.39221118437813'}]}}"
      ]
     },
     "execution_count": 117,
     "metadata": {},
     "output_type": "execute_result"
    }
   ],
   "source": [
    "result"
   ]
  },
  {
   "cell_type": "code",
   "execution_count": 118,
   "metadata": {},
   "outputs": [
    {
     "name": "stdout",
     "output_type": "stream",
     "text": [
      "AHD\n",
      "Ellipsoidal\n",
      "CPU times: user 20.3 ms, sys: 2.7 ms, total: 23 ms\n",
      "Wall time: 2.86 s\n"
     ]
    }
   ],
   "source": [
    "%%time\n",
    "# get all the data from the ACT for 2014 in this bbox\n",
    "result = callelvis([148.77, -36.35, 148.78, -35.34], collection=\"ACT\", year=2014)"
   ]
  },
  {
   "cell_type": "code",
   "execution_count": 119,
   "metadata": {},
   "outputs": [
    {
     "data": {
      "text/plain": [
       "{'ACT Government': 'No data'}"
      ]
     },
     "execution_count": 119,
     "metadata": {},
     "output_type": "execute_result"
    }
   ],
   "source": [
    "result"
   ]
  },
  {
   "cell_type": "code",
   "execution_count": 120,
   "metadata": {},
   "outputs": [
    {
     "name": "stdout",
     "output_type": "stream",
     "text": [
      "AHD\n",
      "Ellipsoidal\n",
      "CPU times: user 20.5 ms, sys: 2.78 ms, total: 23.3 ms\n",
      "Wall time: 2.65 s\n"
     ]
    }
   ],
   "source": [
    "%%time\n",
    "# get all the data from the ACT for 2015 in this bbox\n",
    "result = callelvis([148.77, -36.35, 148.78, -35.34], collection=\"ACT\", year=2015)"
   ]
  },
  {
   "cell_type": "code",
   "execution_count": 121,
   "metadata": {},
   "outputs": [
    {
     "name": "stdout",
     "output_type": "stream",
     "text": [
      "no\n"
     ]
    }
   ],
   "source": [
    "testlist = []\n",
    "print('yes') if testlist else print('no')"
   ]
  },
  {
   "cell_type": "code",
   "execution_count": 122,
   "metadata": {},
   "outputs": [
    {
     "data": {
      "text/plain": [
       "19"
      ]
     },
     "execution_count": 122,
     "metadata": {},
     "output_type": "execute_result"
    }
   ],
   "source": [
    "len(result[\"ACT Government\"][\"AHD\"])"
   ]
  },
  {
   "cell_type": "code",
   "execution_count": 123,
   "metadata": {},
   "outputs": [
    {
     "data": {
      "text/plain": [
       "19"
      ]
     },
     "execution_count": 123,
     "metadata": {},
     "output_type": "execute_result"
    }
   ],
   "source": [
    "len(result[\"ACT Government\"][\"Ellipsoidal\"])"
   ]
  },
  {
   "cell_type": "code",
   "execution_count": 124,
   "metadata": {},
   "outputs": [
    {
     "data": {
      "text/plain": [
       "{'ACT Government': {'AHD': [{'index_poly_name': '6586070',\n",
       "    'file_name': 'ACT2015_4ppm-C3-AHD_6586070_55_0002_0002.zip',\n",
       "    'file_url': 'https://s3-ap-southeast-2.amazonaws.com/act.elvis/Lidar/z55/ACT2015_4ppm-C3-AHD_6586070_55_0002_0002.zip',\n",
       "    'file_size': '196205608',\n",
       "    'file_last_modified': '20170616',\n",
       "    'bbox': '148.74207269637532,-35.50100460313498,148.76372090731323,-35.48265938553811'},\n",
       "   {'index_poly_name': '6606046',\n",
       "    'file_name': 'ACT2015_4ppm-C3-AHD_6606046_55_0002_0002.zip',\n",
       "    'file_url': 'https://s3-ap-southeast-2.amazonaws.com/act.elvis/Lidar/z55/ACT2015_4ppm-C3-AHD_6606046_55_0002_0002.zip',\n",
       "    'file_size': '475693565',\n",
       "    'file_last_modified': '20170616',\n",
       "    'bbox': '148.76887110014735,-35.7169778567827,148.79056911937633,-35.698626943144134'},\n",
       "   {'index_poly_name': '6606048',\n",
       "    'file_name': 'ACT2015_4ppm-C3-AHD_6606048_55_0002_0002.zip',\n",
       "    'file_url': 'https://s3-ap-southeast-2.amazonaws.com/act.elvis/Lidar/z55/ACT2015_4ppm-C3-AHD_6606048_55_0002_0002.zip',\n",
       "    'file_size': '490738661',\n",
       "    'file_last_modified': '20170616',\n",
       "    'bbox': '148.7684728175661,-35.6989537062952,148.79016622474904,-35.68060295028003'},\n",
       "   {'index_poly_name': '6606050',\n",
       "    'file_name': 'ACT2015_4ppm-C3-AHD_6606050_55_0002_0002.zip',\n",
       "    'file_url': 'https://s3-ap-southeast-2.amazonaws.com/act.elvis/Lidar/z55/ACT2015_4ppm-C3-AHD_6606050_55_0002_0002.zip',\n",
       "    'file_size': '536614129',\n",
       "    'file_last_modified': '20170616',\n",
       "    'bbox': '148.7680748884568,-35.68092949786726,148.78976368768002,-35.66257889939573'},\n",
       "   {'index_poly_name': '6606052',\n",
       "    'file_name': 'ACT2015_4ppm-C3-AHD_6606052_55_0002_0002.zip',\n",
       "    'file_url': 'https://s3-ap-southeast-2.amazonaws.com/act.elvis/Lidar/z55/ACT2015_4ppm-C3-AHD_6606052_55_0002_0002.zip',\n",
       "    'file_size': '523486187',\n",
       "    'file_last_modified': '20170616',\n",
       "    'bbox': '148.76767731250334,-35.66290523151438,148.78936150784978,-35.64455479050688'},\n",
       "   {'index_poly_name': '6606054',\n",
       "    'file_name': 'ACT2015_4ppm-C3-AHD_6606054_55_0002_0002.zip',\n",
       "    'file_url': 'https://s3-ap-southeast-2.amazonaws.com/act.elvis/Lidar/z55/ACT2015_4ppm-C3-AHD_6606054_55_0002_0002.zip',\n",
       "    'file_size': '658702075',\n",
       "    'file_last_modified': '20170616',\n",
       "    'bbox': '148.76728008939003,-35.644880907252094,148.78895968493913,-35.626530623629115'},\n",
       "   {'index_poly_name': '6606056',\n",
       "    'file_name': 'ACT2015_4ppm-C3-AHD_6606056_55_0002_0002.zip',\n",
       "    'file_url': 'https://s3-ap-southeast-2.amazonaws.com/act.elvis/Lidar/z55/ACT2015_4ppm-C3-AHD_6606056_55_0002_0002.zip',\n",
       "    'file_size': '585065332',\n",
       "    'file_last_modified': '20170616',\n",
       "    'bbox': '148.76688321880172,-35.62685652509594,148.7885582186294,-35.60850639877812'},\n",
       "   {'index_poly_name': '6606058',\n",
       "    'file_name': 'ACT2015_4ppm-C3-AHD_6606058_55_0002_0002.zip',\n",
       "    'file_url': 'https://s3-ap-southeast-2.amazonaws.com/act.elvis/Lidar/z55/ACT2015_4ppm-C3-AHD_6606058_55_0002_0002.zip',\n",
       "    'file_size': '471926853',\n",
       "    'file_last_modified': '20170616',\n",
       "    'bbox': '148.76648670042363,-35.60883208506148,148.78815710860232,-35.59048211596956'},\n",
       "   {'index_poly_name': '6606060',\n",
       "    'file_name': 'ACT2015_4ppm-C3-AHD_6606060_55_0002_0002.zip',\n",
       "    'file_url': 'https://s3-ap-southeast-2.amazonaws.com/act.elvis/Lidar/z55/ACT2015_4ppm-C3-AHD_6606060_55_0002_0002.zip',\n",
       "    'file_size': '571515423',\n",
       "    'file_last_modified': '20170616',\n",
       "    'bbox': '148.76609053394134,-35.59080758716428,148.78775635454016,-35.57245777521914'},\n",
       "   {'index_poly_name': '6606062',\n",
       "    'file_name': 'ACT2015_4ppm-C3-AHD_6606062_55_0002_0002.zip',\n",
       "    'file_url': 'https://s3-ap-southeast-2.amazonaws.com/act.elvis/Lidar/z55/ACT2015_4ppm-C3-AHD_6606062_55_0002_0002.zip',\n",
       "    'file_size': '601262316',\n",
       "    'file_last_modified': '20170616',\n",
       "    'bbox': '148.76569471904105,-35.57278303141995,148.78735595612548,-35.55443337654258'},\n",
       "   {'index_poly_name': '6606064',\n",
       "    'file_name': 'ACT2015_4ppm-C3-AHD_6606064_55_0002_0002.zip',\n",
       "    'file_url': 'https://s3-ap-southeast-2.amazonaws.com/act.elvis/Lidar/z55/ACT2015_4ppm-C3-AHD_6606064_55_0002_0002.zip',\n",
       "    'file_size': '738166486',\n",
       "    'file_last_modified': '20170616',\n",
       "    'bbox': '148.76529925540927,-35.55475841784409,148.7869559130414,-35.53640891995562'},\n",
       "   {'index_poly_name': '6606066',\n",
       "    'file_name': 'ACT2015_4ppm-C3-AHD_6606066_55_0002_0002.zip',\n",
       "    'file_url': 'https://s3-ap-southeast-2.amazonaws.com/act.elvis/Lidar/z55/ACT2015_4ppm-C3-AHD_6606066_55_0002_0002.zip',\n",
       "    'file_size': '586943977',\n",
       "    'file_last_modified': '20170616',\n",
       "    'bbox': '148.76490414273297,-35.53673374645233,148.78655622497143,-35.51838440547398'},\n",
       "   {'index_poly_name': '6606068',\n",
       "    'file_name': 'ACT2015_4ppm-C3-AHD_6606068_55_0002_0002.zip',\n",
       "    'file_url': 'https://s3-ap-southeast-2.amazonaws.com/act.elvis/Lidar/z55/ACT2015_4ppm-C3-AHD_6606068_55_0002_0002.zip',\n",
       "    'file_size': '651457940',\n",
       "    'file_last_modified': '20170616',\n",
       "    'bbox': '148.76450938069956,-35.518709017260306,148.78615689159955,-35.50035983311344'},\n",
       "   {'index_poly_name': '6606070',\n",
       "    'file_name': 'ACT2015_4ppm-C3-AHD_6606070_55_0002_0002.zip',\n",
       "    'file_url': 'https://s3-ap-southeast-2.amazonaws.com/act.elvis/Lidar/z55/ACT2015_4ppm-C3-AHD_6606070_55_0002_0002.zip',\n",
       "    'file_size': '667010944',\n",
       "    'file_last_modified': '20170616',\n",
       "    'bbox': '148.7641149689969,-35.50068423028367,148.78575791261014,-35.48233520288979'},\n",
       "   {'index_poly_name': '6606072',\n",
       "    'file_name': 'ACT2015_4ppm-C3-AHD_6606072_55_0002_0002.zip',\n",
       "    'file_url': 'https://s3-ap-southeast-2.amazonaws.com/act.elvis/Lidar/z55/ACT2015_4ppm-C3-AHD_6606072_55_0002_0002.zip',\n",
       "    'file_size': '602978742',\n",
       "    'file_last_modified': '20170616',\n",
       "    'bbox': '148.76372090731323,-35.48265938553811,148.78535928768807,-35.46431051481881'},\n",
       "   {'index_poly_name': '6606074',\n",
       "    'file_name': 'ACT2015_4ppm-C3-AHD_6606074_55_0002_0002.zip',\n",
       "    'file_url': 'https://s3-ap-southeast-2.amazonaws.com/act.elvis/Lidar/z55/ACT2015_4ppm-C3-AHD_6606074_55_0002_0002.zip',\n",
       "    'file_size': '579257871',\n",
       "    'file_last_modified': '20170616',\n",
       "    'bbox': '148.76332719533733,-35.464634483039305,148.78496101651857,-35.44628576891631'},\n",
       "   {'index_poly_name': '6606076',\n",
       "    'file_name': 'ACT2015_4ppm-C3-AHD_6606076_55_0002_0002.zip',\n",
       "    'file_url': 'https://s3-ap-southeast-2.amazonaws.com/act.elvis/Lidar/z55/ACT2015_4ppm-C3-AHD_6606076_55_0002_0002.zip',\n",
       "    'file_size': '673958948',\n",
       "    'file_last_modified': '20170616',\n",
       "    'bbox': '148.76293383275822,-35.44660952280296,148.78456309878734,-35.42826096519814'},\n",
       "   {'index_poly_name': '6606078',\n",
       "    'file_name': 'ACT2015_4ppm-C3-AHD_6606078_55_0002_0002.zip',\n",
       "    'file_url': 'https://s3-ap-southeast-2.amazonaws.com/act.elvis/Lidar/z55/ACT2015_4ppm-C3-AHD_6606078_55_0002_0002.zip',\n",
       "    'file_size': '555183789',\n",
       "    'file_last_modified': '20170616',\n",
       "    'bbox': '148.7625408192656,-35.42858450484482,148.7841655341806,-35.41023610368013'},\n",
       "   {'index_poly_name': '6606080',\n",
       "    'file_name': 'ACT2015_4ppm-C3-AHD_6606080_55_0002_0002.zip',\n",
       "    'file_url': 'https://s3-ap-southeast-2.amazonaws.com/act.elvis/Lidar/z55/ACT2015_4ppm-C3-AHD_6606080_55_0002_0002.zip',\n",
       "    'file_size': '506818424',\n",
       "    'file_last_modified': '20170616',\n",
       "    'bbox': '148.76214815454938,-35.4105594291806,148.78376832238487,-35.39221118437813'}],\n",
       "  'Ellipsoidal': [{'index_poly_name': '6586070',\n",
       "    'file_name': 'ACT2015_4ppm-C3-ELL_6586070_55_0002_0002.zip',\n",
       "    'file_url': 'https://s3-ap-southeast-2.amazonaws.com/act.elvis/Lidar/z55/ACT2015_4ppm-C3-ELL_6586070_55_0002_0002.zip',\n",
       "    'file_size': '194572295',\n",
       "    'file_last_modified': '20170619',\n",
       "    'bbox': '148.74207269637532,-35.50100460313498,148.76372090731323,-35.48265938553811'},\n",
       "   {'index_poly_name': '6606046',\n",
       "    'file_name': 'ACT2015_4ppm-C3-ELL_6606046_55_0002_0002.zip',\n",
       "    'file_url': 'https://s3-ap-southeast-2.amazonaws.com/act.elvis/Lidar/z55/ACT2015_4ppm-C3-ELL_6606046_55_0002_0002.zip',\n",
       "    'file_size': '474210341',\n",
       "    'file_last_modified': '20170619',\n",
       "    'bbox': '148.76887110014735,-35.7169778567827,148.79056911937633,-35.698626943144134'},\n",
       "   {'index_poly_name': '6606048',\n",
       "    'file_name': 'ACT2015_4ppm-C3-ELL_6606048_55_0002_0002.zip',\n",
       "    'file_url': 'https://s3-ap-southeast-2.amazonaws.com/act.elvis/Lidar/z55/ACT2015_4ppm-C3-ELL_6606048_55_0002_0002.zip',\n",
       "    'file_size': '488758105',\n",
       "    'file_last_modified': '20170619',\n",
       "    'bbox': '148.7684728175661,-35.6989537062952,148.79016622474904,-35.68060295028003'},\n",
       "   {'index_poly_name': '6606050',\n",
       "    'file_name': 'ACT2015_4ppm-C3-ELL_6606050_55_0002_0002.zip',\n",
       "    'file_url': 'https://s3-ap-southeast-2.amazonaws.com/act.elvis/Lidar/z55/ACT2015_4ppm-C3-ELL_6606050_55_0002_0002.zip',\n",
       "    'file_size': '534621101',\n",
       "    'file_last_modified': '20170619',\n",
       "    'bbox': '148.7680748884568,-35.68092949786726,148.78976368768002,-35.66257889939573'},\n",
       "   {'index_poly_name': '6606052',\n",
       "    'file_name': 'ACT2015_4ppm-C3-ELL_6606052_55_0002_0002.zip',\n",
       "    'file_url': 'https://s3-ap-southeast-2.amazonaws.com/act.elvis/Lidar/z55/ACT2015_4ppm-C3-ELL_6606052_55_0002_0002.zip',\n",
       "    'file_size': '521902740',\n",
       "    'file_last_modified': '20170619',\n",
       "    'bbox': '148.76767731250334,-35.66290523151438,148.78936150784978,-35.64455479050688'},\n",
       "   {'index_poly_name': '6606054',\n",
       "    'file_name': 'ACT2015_4ppm-C3-ELL_6606054_55_0002_0002.zip',\n",
       "    'file_url': 'https://s3-ap-southeast-2.amazonaws.com/act.elvis/Lidar/z55/ACT2015_4ppm-C3-ELL_6606054_55_0002_0002.zip',\n",
       "    'file_size': '656868607',\n",
       "    'file_last_modified': '20170619',\n",
       "    'bbox': '148.76728008939003,-35.644880907252094,148.78895968493913,-35.626530623629115'},\n",
       "   {'index_poly_name': '6606056',\n",
       "    'file_name': 'ACT2015_4ppm-C3-ELL_6606056_55_0002_0002.zip',\n",
       "    'file_url': 'https://s3-ap-southeast-2.amazonaws.com/act.elvis/Lidar/z55/ACT2015_4ppm-C3-ELL_6606056_55_0002_0002.zip',\n",
       "    'file_size': '582905476',\n",
       "    'file_last_modified': '20170619',\n",
       "    'bbox': '148.76688321880172,-35.62685652509594,148.7885582186294,-35.60850639877812'},\n",
       "   {'index_poly_name': '6606058',\n",
       "    'file_name': 'ACT2015_4ppm-C3-ELL_6606058_55_0002_0002.zip',\n",
       "    'file_url': 'https://s3-ap-southeast-2.amazonaws.com/act.elvis/Lidar/z55/ACT2015_4ppm-C3-ELL_6606058_55_0002_0002.zip',\n",
       "    'file_size': '470338212',\n",
       "    'file_last_modified': '20170619',\n",
       "    'bbox': '148.76648670042363,-35.60883208506148,148.78815710860232,-35.59048211596956'},\n",
       "   {'index_poly_name': '6606060',\n",
       "    'file_name': 'ACT2015_4ppm-C3-ELL_6606060_55_0002_0002.zip',\n",
       "    'file_url': 'https://s3-ap-southeast-2.amazonaws.com/act.elvis/Lidar/z55/ACT2015_4ppm-C3-ELL_6606060_55_0002_0002.zip',\n",
       "    'file_size': '569926075',\n",
       "    'file_last_modified': '20170619',\n",
       "    'bbox': '148.76609053394134,-35.59080758716428,148.78775635454016,-35.57245777521914'},\n",
       "   {'index_poly_name': '6606062',\n",
       "    'file_name': 'ACT2015_4ppm-C3-ELL_6606062_55_0002_0002.zip',\n",
       "    'file_url': 'https://s3-ap-southeast-2.amazonaws.com/act.elvis/Lidar/z55/ACT2015_4ppm-C3-ELL_6606062_55_0002_0002.zip',\n",
       "    'file_size': '599112885',\n",
       "    'file_last_modified': '20170619',\n",
       "    'bbox': '148.76569471904105,-35.57278303141995,148.78735595612548,-35.55443337654258'},\n",
       "   {'index_poly_name': '6606064',\n",
       "    'file_name': 'ACT2015_4ppm-C3-ELL_6606064_55_0002_0002.zip',\n",
       "    'file_url': 'https://s3-ap-southeast-2.amazonaws.com/act.elvis/Lidar/z55/ACT2015_4ppm-C3-ELL_6606064_55_0002_0002.zip',\n",
       "    'file_size': '734991122',\n",
       "    'file_last_modified': '20170619',\n",
       "    'bbox': '148.76529925540927,-35.55475841784409,148.7869559130414,-35.53640891995562'},\n",
       "   {'index_poly_name': '6606066',\n",
       "    'file_name': 'ACT2015_4ppm-C3-ELL_6606066_55_0002_0002.zip',\n",
       "    'file_url': 'https://s3-ap-southeast-2.amazonaws.com/act.elvis/Lidar/z55/ACT2015_4ppm-C3-ELL_6606066_55_0002_0002.zip',\n",
       "    'file_size': '584774696',\n",
       "    'file_last_modified': '20170619',\n",
       "    'bbox': '148.76490414273297,-35.53673374645233,148.78655622497143,-35.51838440547398'},\n",
       "   {'index_poly_name': '6606068',\n",
       "    'file_name': 'ACT2015_4ppm-C3-ELL_6606068_55_0002_0002.zip',\n",
       "    'file_url': 'https://s3-ap-southeast-2.amazonaws.com/act.elvis/Lidar/z55/ACT2015_4ppm-C3-ELL_6606068_55_0002_0002.zip',\n",
       "    'file_size': '648198911',\n",
       "    'file_last_modified': '20170619',\n",
       "    'bbox': '148.76450938069956,-35.518709017260306,148.78615689159955,-35.50035983311344'},\n",
       "   {'index_poly_name': '6606070',\n",
       "    'file_name': 'ACT2015_4ppm-C3-ELL_6606070_55_0002_0002.zip',\n",
       "    'file_url': 'https://s3-ap-southeast-2.amazonaws.com/act.elvis/Lidar/z55/ACT2015_4ppm-C3-ELL_6606070_55_0002_0002.zip',\n",
       "    'file_size': '661929272',\n",
       "    'file_last_modified': '20170619',\n",
       "    'bbox': '148.7641149689969,-35.50068423028367,148.78575791261014,-35.48233520288979'},\n",
       "   {'index_poly_name': '6606072',\n",
       "    'file_name': 'ACT2015_4ppm-C3-ELL_6606072_55_0002_0002.zip',\n",
       "    'file_url': 'https://s3-ap-southeast-2.amazonaws.com/act.elvis/Lidar/z55/ACT2015_4ppm-C3-ELL_6606072_55_0002_0002.zip',\n",
       "    'file_size': '599651994',\n",
       "    'file_last_modified': '20170619',\n",
       "    'bbox': '148.76372090731323,-35.48265938553811,148.78535928768807,-35.46431051481881'},\n",
       "   {'index_poly_name': '6606074',\n",
       "    'file_name': 'ACT2015_4ppm-C3-ELL_6606074_55_0002_0002.zip',\n",
       "    'file_url': 'https://s3-ap-southeast-2.amazonaws.com/act.elvis/Lidar/z55/ACT2015_4ppm-C3-ELL_6606074_55_0002_0002.zip',\n",
       "    'file_size': '576988807',\n",
       "    'file_last_modified': '20170619',\n",
       "    'bbox': '148.76332719533733,-35.464634483039305,148.78496101651857,-35.44628576891631'},\n",
       "   {'index_poly_name': '6606076',\n",
       "    'file_name': 'ACT2015_4ppm-C3-ELL_6606076_55_0002_0002.zip',\n",
       "    'file_url': 'https://s3-ap-southeast-2.amazonaws.com/act.elvis/Lidar/z55/ACT2015_4ppm-C3-ELL_6606076_55_0002_0002.zip',\n",
       "    'file_size': '671057996',\n",
       "    'file_last_modified': '20170619',\n",
       "    'bbox': '148.76293383275822,-35.44660952280296,148.78456309878734,-35.42826096519814'},\n",
       "   {'index_poly_name': '6606078',\n",
       "    'file_name': 'ACT2015_4ppm-C3-ELL_6606078_55_0002_0002.zip',\n",
       "    'file_url': 'https://s3-ap-southeast-2.amazonaws.com/act.elvis/Lidar/z55/ACT2015_4ppm-C3-ELL_6606078_55_0002_0002.zip',\n",
       "    'file_size': '552700800',\n",
       "    'file_last_modified': '20170619',\n",
       "    'bbox': '148.7625408192656,-35.42858450484482,148.7841655341806,-35.41023610368013'},\n",
       "   {'index_poly_name': '6606080',\n",
       "    'file_name': 'ACT2015_4ppm-C3-ELL_6606080_55_0002_0002.zip',\n",
       "    'file_url': 'https://s3-ap-southeast-2.amazonaws.com/act.elvis/Lidar/z55/ACT2015_4ppm-C3-ELL_6606080_55_0002_0002.zip',\n",
       "    'file_size': '504592492',\n",
       "    'file_last_modified': '20170619',\n",
       "    'bbox': '148.76214815454938,-35.4105594291806,148.78376832238487,-35.39221118437813'}]}}"
      ]
     },
     "execution_count": 124,
     "metadata": {},
     "output_type": "execute_result"
    }
   ],
   "source": [
    "result"
   ]
  },
  {
   "cell_type": "markdown",
   "metadata": {},
   "source": [
    "Ok there's an issue here - the data are being doubled up"
   ]
  },
  {
   "cell_type": "code",
   "execution_count": 58,
   "metadata": {},
   "outputs": [
    {
     "name": "stdout",
     "output_type": "stream",
     "text": [
      "[148.77, -36.35, 148.78, -35.34]\n",
      "polygon=POLYGON((148.78 -36.35,148.78 -35.34,148.77 -35.34,148.77 -36.35,148.78 -36.35))\n",
      "https://elvis2018-ga.fmecloud.com/fmedatastreaming/elvis_indexes/ReturnDownloadables.fmw?polygon=POLYGON((148.78%20-36.35,148.78%20-35.34,148.77%20-35.34,148.77%20-36.35,148.78%20-36.35))\n",
      "CPU times: user 22.7 ms, sys: 3.38 ms, total: 26.1 ms\n",
      "Wall time: 3.18 s\n"
     ]
    }
   ],
   "source": [
    "%%time\n",
    "# get all the data from the ACT for 2015 in this bbox, referenced to AHD\n",
    "result = callelvis([148.77, -36.35, 148.78, -35.34], collection=\"ACT\", year=2015, heightref=\"AHD\")"
   ]
  },
  {
   "cell_type": "code",
   "execution_count": 59,
   "metadata": {},
   "outputs": [
    {
     "data": {
      "text/plain": [
       "dict_keys(['AHD'])"
      ]
     },
     "execution_count": 59,
     "metadata": {},
     "output_type": "execute_result"
    }
   ],
   "source": [
    "result[\"ACT Government\"].keys()"
   ]
  },
  {
   "cell_type": "code",
   "execution_count": 60,
   "metadata": {},
   "outputs": [
    {
     "data": {
      "text/plain": [
       "18"
      ]
     },
     "execution_count": 60,
     "metadata": {},
     "output_type": "execute_result"
    }
   ],
   "source": [
    "len(result[\"ACT Government\"][\"AHD\"])"
   ]
  },
  {
   "cell_type": "code",
   "execution_count": 61,
   "metadata": {},
   "outputs": [
    {
     "name": "stdout",
     "output_type": "stream",
     "text": [
      "[148.77, -36.35, 148.78, -35.34]\n",
      "polygon=POLYGON((148.78 -36.35,148.78 -35.34,148.77 -35.34,148.77 -36.35,148.78 -36.35))\n",
      "https://elvis2018-ga.fmecloud.com/fmedatastreaming/elvis_indexes/ReturnDownloadables.fmw?polygon=POLYGON((148.78%20-36.35,148.78%20-35.34,148.77%20-35.34,148.77%20-36.35,148.78%20-36.35))\n",
      "CPU times: user 19.5 ms, sys: 3.44 ms, total: 22.9 ms\n",
      "Wall time: 2.26 s\n"
     ]
    }
   ],
   "source": [
    "%%time\n",
    "# get all the data from the ACT for 2015 in this bbox, referenced to Ellipsoid\n",
    "result = callelvis([148.77, -36.35, 148.78, -35.34], collection=\"ACT\", year=2015, heightref=\"Ellipsoidal\")"
   ]
  },
  {
   "cell_type": "code",
   "execution_count": 62,
   "metadata": {},
   "outputs": [
    {
     "data": {
      "text/plain": [
       "dict_keys(['Ellipsoidal'])"
      ]
     },
     "execution_count": 62,
     "metadata": {},
     "output_type": "execute_result"
    }
   ],
   "source": [
    "result[\"ACT Government\"].keys()"
   ]
  },
  {
   "cell_type": "code",
   "execution_count": 63,
   "metadata": {},
   "outputs": [
    {
     "name": "stdout",
     "output_type": "stream",
     "text": [
      "[148.77, -36.35, 148.78, -35.34]\n",
      "polygon=POLYGON((148.78 -36.35,148.78 -35.34,148.77 -35.34,148.77 -36.35,148.78 -36.35))\n",
      "https://elvis2018-ga.fmecloud.com/fmedatastreaming/elvis_indexes/ReturnDownloadables.fmw?polygon=POLYGON((148.78%20-36.35,148.78%20-35.34,148.77%20-35.34,148.77%20-36.35,148.78%20-36.35))\n",
      "CPU times: user 23 ms, sys: 3.99 ms, total: 26.9 ms\n",
      "Wall time: 2.63 s\n"
     ]
    }
   ],
   "source": [
    "%%time\n",
    "# get all the data from the ACT for 2015 in this bbox, referenced to Ellipsoid, using a shortcut\n",
    "result = callelvis([148.77, -36.35, 148.78, -35.34], collection=\"ACT\", year=2015, heightref=\"Ell\")"
   ]
  },
  {
   "cell_type": "code",
   "execution_count": 64,
   "metadata": {},
   "outputs": [
    {
     "data": {
      "text/plain": [
       "dict_keys(['Ellipsoidal'])"
      ]
     },
     "execution_count": 64,
     "metadata": {},
     "output_type": "execute_result"
    }
   ],
   "source": [
    "result[\"ACT Government\"].keys()"
   ]
  },
  {
   "cell_type": "code",
   "execution_count": 65,
   "metadata": {},
   "outputs": [
    {
     "data": {
      "text/plain": [
       "18"
      ]
     },
     "execution_count": 65,
     "metadata": {},
     "output_type": "execute_result"
    }
   ],
   "source": [
    "len(result[\"ACT Government\"][\"Ellipsoidal\"])"
   ]
  },
  {
   "cell_type": "code",
   "execution_count": 66,
   "metadata": {},
   "outputs": [],
   "source": [
    "bbox = [148.77, -36.35, 148.78, -35.34]\n",
    "bboxx = geometry.box(bbox[0],bbox[1],bbox[2],bbox[3])"
   ]
  },
  {
   "cell_type": "code",
   "execution_count": 57,
   "metadata": {},
   "outputs": [
    {
     "data": {
      "text/plain": [
       "'POLYGON ((148.7800000000000011 -36.3500000000000014, 148.7800000000000011 -35.3400000000000034, 148.7700000000000102 -35.3400000000000034, 148.7700000000000102 -36.3500000000000014, 148.7800000000000011 -36.3500000000000014))'"
      ]
     },
     "execution_count": 57,
     "metadata": {},
     "output_type": "execute_result"
    }
   ],
   "source": [
    "wkt.dumps(Polygon(bboxx))"
   ]
  },
  {
   "cell_type": "code",
   "execution_count": 77,
   "metadata": {},
   "outputs": [],
   "source": [
    "import numpy as np\n",
    "this = np.arange(100, 50, -5)"
   ]
  },
  {
   "cell_type": "code",
   "execution_count": 78,
   "metadata": {},
   "outputs": [
    {
     "data": {
      "text/plain": [
       "array([100,  95,  90,  85,  80,  75,  70,  65,  60,  55])"
      ]
     },
     "execution_count": 78,
     "metadata": {},
     "output_type": "execute_result"
    }
   ],
   "source": [
    "this"
   ]
  },
  {
   "cell_type": "code",
   "execution_count": null,
   "metadata": {},
   "outputs": [],
   "source": []
  }
 ],
 "metadata": {
  "kernelspec": {
   "display_name": "Python 3",
   "language": "python",
   "name": "python3"
  },
  "language_info": {
   "codemirror_mode": {
    "name": "ipython",
    "version": 3
   },
   "file_extension": ".py",
   "mimetype": "text/x-python",
   "name": "python",
   "nbconvert_exporter": "python",
   "pygments_lexer": "ipython3",
   "version": "3.6.8"
  }
 },
 "nbformat": 4,
 "nbformat_minor": 2
}
