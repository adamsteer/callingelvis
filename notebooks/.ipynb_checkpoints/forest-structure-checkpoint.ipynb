{
 "cells": [
  {
   "cell_type": "markdown",
   "metadata": {},
   "source": [
    "### Forest structure using PDAL + Python\n",
    "\n",
    "Dr Adam Steer, November 2019.\n",
    "\n",
    "This work is a set of python modules to replace MATLAB code for generating TERN forest metrics from airborne LIDAR.\n",
    "\n",
    "## Fundamental ideas\n",
    "\n",
    "Existing code uses a series of nested loops, meaning we can't take advantage of array operations or easily reformat or paralellise functionality\n",
    "\n",
    "The approach used here defines a transportable function for each TERN product. These are applied to the data using a single loop (which could be chunked and parallelised).\n",
    "\n",
    "A simple process step-through looks like:\n",
    "\n",
    "1. Read LAS tile using PDAL. This removes an uncompression step. It also removes low outliers and computes normalised height for each point on the fly\n",
    "2. Read numpy labelled arrays from PDAL output into a GeoPandas dataframe, and apply a 2D spatial index\n",
    "3. From LAS file metadata, produce a fishnet grid with cells of size 'output resolution X output resolution'\n",
    "4. Iterate over grid cells, select valid points and generate TERN products for each grid cell\n",
    "5. Assemble an output array for each TERN product and write to GeoTIFF\n",
    "\n",
    "This set of functions operates per-las-tile. An additional layer may be added to merge mutliple raster outputs into larger datasets\n",
    "\n",
    "## to do:\n",
    "\n",
    "- snake_casify variable names"
   ]
  },
  {
   "cell_type": "code",
   "execution_count": 1,
   "metadata": {},
   "outputs": [],
   "source": [
    "NODATA_VALUE = -9999\n",
    "LCF_HEIGHTS_ACT = [0, 0.5, 2]\n",
    "LCF_HEIGHTS_NCAS = [0, 0.05, 1, 3]"
   ]
  },
  {
   "cell_type": "code",
   "execution_count": 2,
   "metadata": {},
   "outputs": [],
   "source": [
    "#imports\n",
    "import pdal\n",
    "import numpy as np\n",
    "import json\n",
    "\n",
    "from shapely.geometry import Point\n",
    "from shapely.geometry import MultiPolygon\n",
    "from shapely.geometry import box\n",
    "#from shapely.strtree import STRtree\n",
    "\n",
    "import geopandas as gpd\n",
    "import pandas as pd\n",
    "import osmnx as ox\n",
    "\n",
    "import os\n",
    "\n",
    "# not using this, using geopandas instead\n",
    "from rtree import index\n",
    "\n",
    "# this is needed to create a raster from the output array\n",
    "from osgeo import gdal\n",
    "import osgeo.osr as osr"
   ]
  },
  {
   "cell_type": "code",
   "execution_count": 40,
   "metadata": {},
   "outputs": [],
   "source": [
    "def write_product_geotiff(griddedpoints, outfile, parameters):\n",
    "    \"\"\"\n",
    "    writes out a geotiff from a numpy array of forest metric\n",
    "    results.\n",
    "    \n",
    "    inputs:\n",
    "    - a numpy array of metrics [griddedpoints]\n",
    "    - an outfile name [outfile]\n",
    "    - a dictionary of parameters for the raster\n",
    "    \n",
    "    outputs:\n",
    "    - a gdal dataset object\n",
    "    - [outfile] written to disk\n",
    "    \"\"\"\n",
    "\n",
    "    width = parameters[\"width\"]\n",
    "    height = parameters[\"height\"]\n",
    "    wktcrs = parameters[\"projection\"]\n",
    "\n",
    "    srs = osr.SpatialReference()\n",
    "    srs.ImportFromWkt(wktcrs)\n",
    "\n",
    "    drv = gdal.GetDriverByName(\"GTiff\")\n",
    "    ds = drv.Create(outfile, width, height, 1, gdal.GDT_Float32 )\n",
    "    ds.SetGeoTransform([parameters[\"upperleft_x\"],\n",
    "                       parameters[\"resolution\"],\n",
    "                       0,\n",
    "                       parameters[\"upperleft_y\"],\n",
    "                       0,\n",
    "                       -parameters[\"resolution\"]])\n",
    "    ds.SetProjection(srs.ExportToWkt())\n",
    "    ds.GetRasterBand(1).WriteArray(np.rot90(griddedpoints))\n",
    "\n",
    "    ds.FlushCache()\n",
    "    ds = None\n",
    "\n",
    "    return()\n",
    "\n",
    "def pdal2df(points):\n",
    "    \"\"\"\n",
    "    Feed me a PDAL pipeline return array, get back a \n",
    "    GeoPandas dataframe \n",
    "    \"\"\"\n",
    "\n",
    "    arr = points[0]\n",
    "    description = arr.dtype.descr\n",
    "    cols = [col for col, __ in description]\n",
    "    gdf = gpd.GeoDataFrame({col: arr[col] for col in cols})\n",
    "    gdf.name = 'nodes'\n",
    "    gdf['geometry'] = gdf.apply(lambda row: Point((row['X'], row['Y'])), axis=1)\n",
    "    \n",
    "    return(gdf)\n",
    "\n",
    "def spatialindex(dataframe):\n",
    "    sindex = dataframe.sindex\n",
    "    return(sindex)\n",
    "\n",
    "#get a pointview from PDAL\n",
    "def readlasfile(lasfile):\n",
    "    \"\"\"\n",
    "    Run a PDAL pipeline. Input is a JSON declaration to \n",
    "    deliver to PDAL. Output is a labelled numpy array.\n",
    "    \n",
    "    Data are filtered to:\n",
    "    - label local minima as noise\n",
    "    - compute height above ground using nearest ground point\n",
    "      neighbours (TIN method arriving soon)\n",
    "    - sort using a morton order (space filling curve) to \n",
    "      speed indexing later.\n",
    "    \n",
    "    \"\"\"\n",
    "    pipeline = {\n",
    "        \"pipeline\": [\n",
    "            {\n",
    "                \"type\": \"readers.las\",\n",
    "                \"filename\": lasfile\n",
    "            },\n",
    "            {\n",
    "                \"type\": \"filters.hag\"\n",
    "            }\n",
    "        ]\n",
    "    }\n",
    "    \n",
    "    pipeline = pdal.Pipeline(json.dumps(pipeline))\n",
    "\n",
    "    count = pipeline.execute()\n",
    "    \n",
    "    #read points into labelled arrays\n",
    "    arrays = pipeline.arrays\n",
    "\n",
    "    #return a numpy array to operate on\n",
    "    return(arrays)\n",
    "\n",
    "def readlasmetadata(lasfile):\n",
    "    pipeline = {\n",
    "        \"pipeline\": [\n",
    "            {\n",
    "                \"type\": \"readers.las\",\n",
    "                \"filename\": lasfile,\n",
    "                \"count\": 1\n",
    "            },\n",
    "            {\n",
    "                \"type\": \"filters.info\"\n",
    "            }\n",
    "        ]\n",
    "    }\n",
    "    \n",
    "    pipeline = pdal.Pipeline(json.dumps(pipeline))\n",
    "    count = pipeline.execute()\n",
    "    \n",
    "    #extract metadata into a JSON blob\n",
    "    metadata = json.loads(pipeline.metadata)\n",
    "    \n",
    "    return(metadata)\n",
    "\n",
    "\n",
    "\n",
    "def extract_vars(df):\n",
    "    \"\"\"\n",
    "    extract relevant variables\n",
    "    do we need to do this now? or wait till we've grabbed the indexed chunk?\n",
    "    lets write it anyway, then the index chunkifier can call it...\n",
    "    \n",
    "    inputs:\n",
    "    - a numpy labelled array resulting from a PDAL LAS/LAZ file read\n",
    "    \n",
    "    outputs:\n",
    "    - 1D arrays containing relevant variables\n",
    "    \n",
    "    \"\"\"\n",
    "    classification = df[\"Classification\"].values\n",
    "    intensity = df[\"Intensity\"].values\n",
    "    returnnumber = df[\"ReturnNumber\"].values\n",
    "    numberofreturns = df[\"NumberOfReturns\"].values\n",
    "    elevation = df[\"Z\"].values\n",
    "    hag = df[\"HeightAboveGround\"].values\n",
    "\n",
    "    return(intensity, returnnumber, numberofreturns, elevation, hag)\n",
    "\n",
    "\n",
    "def gen_raster_cells(metadata, resolution):\n",
    "    \"\"\"\n",
    "    Generate cells of 'resolution x resolution' for point querying\n",
    "    \n",
    "    input:\n",
    "    - PDAL metadata\n",
    "    \n",
    "    output:\n",
    "    - shapely geometry containing polygons defining 'resolution x resolution'\n",
    "      boxes covering the LAS tile extent\n",
    "      \n",
    "    \"\"\"\n",
    "    bbox = box(metadata[\"metadata\"][\"readers.las\"][\"minx\"],\n",
    "               metadata[\"metadata\"][\"readers.las\"][\"miny\"],\n",
    "               metadata[\"metadata\"][\"readers.las\"][\"maxx\"],\n",
    "               metadata[\"metadata\"][\"readers.las\"][\"maxy\"])\n",
    "    \n",
    "    tiledBBox = ox.quadrat_cut_geometry(bbox, quadrat_width=resolution)\n",
    "    \n",
    "    return(tiledBBox)\n",
    "\n",
    "def get_cell_points(poly, df, sindex):\n",
    "    \n",
    "    poly = poly.buffer(1e-14).buffer(0)\n",
    "    possible_matches_index = list(sindex.intersection(poly.bounds))\n",
    "    possible_matches = df.iloc[possible_matches_index]\n",
    "    precise_matches = possible_matches[possible_matches.intersects(poly)]\n",
    "    \n",
    "    return(precise_matches)"
   ]
  },
  {
   "cell_type": "code",
   "execution_count": 41,
   "metadata": {},
   "outputs": [],
   "source": [
    "# Vegetation cover fraction: (Nfirst - Nsingle) / Nfirst\n",
    "def comp_vcf(points):\n",
    "    \"\"\"\n",
    "    Computes vegetation cover fraction according to the TERN product manual.\n",
    "    \n",
    "    inputs:\n",
    "    - a labelled array of points from an input LAS tile\n",
    "    \n",
    "    outputs:\n",
    "    - a numpy array of grid cells containing the result of:\n",
    "    \n",
    "    (Nfirst - Nsingle) / Nfirst\n",
    "    \n",
    "    ...where:\n",
    "    Nfirst = count of first returns\n",
    "    Nsingle = count of single returns\n",
    "    \n",
    "    ...per grid cell.\n",
    "    \"\"\"\n",
    "    # collect all the first and single return indices\n",
    "    nSingle = np.size(np.where(points[\"NumberOfReturns\"].values == 1))\n",
    "    nFirst = np.size(np.where(points[\"ReturnNumber\"].values == 1))\n",
    "    if (nFirst > 0):\n",
    "        vcf = (nFirst - nSingle) / nFirst\n",
    "    else:\n",
    "        print('no first returns, set vcf to {}'.format(NODATA_VALUE))\n",
    "        vcf = NODATA_VALUE\n",
    "        \n",
    "    return(vcf)"
   ]
  },
  {
   "cell_type": "code",
   "execution_count": 70,
   "metadata": {},
   "outputs": [],
   "source": [
    "# Canopy layering index:\n",
    "\n",
    "# (sum(weight * MaxNumberOfreturns * numberofpointsatreturn) / sum(weight * MaxNumberofReturns)) - 1\n",
    "\n",
    "def comp_cli(points):\n",
    "    maxreturns = np.max(points[\"NumberOfReturns\"])\n",
    "    minreturns = np.min(points[\"NumberOfReturns\"])\n",
    "    \n",
    "    cli_numerator = []\n",
    "    cli_denominator = []\n",
    "    \n",
    "    for nreturn in np.arange(minreturns, maxreturns+1, 1):\n",
    "        # I don't really understand the fixed values in the weighting function - we can record \n",
    "        # a lot more returns... I get that it's supposed to give higher return numbers a lower\n",
    "        # weight based on likelihood of being recorded..\n",
    "        \n",
    "        weight = 1/min([5,nreturn])\n",
    "        \n",
    "        points_at_return = np.where(points[\"ReturnNumber\"] == nreturn)\n",
    "        cli_numerator.append(weight * maxreturns * np.size(points_at_return) )\n",
    "        cli_denominator.append( weight * maxreturns )\n",
    "        \n",
    "    cli = (np.sum(cli_numerator) / np.sum(cli_denominator)) - 1\n",
    "        \n",
    "    return(cli)\n",
    "        "
   ]
  },
  {
   "cell_type": "code",
   "execution_count": 6,
   "metadata": {},
   "outputs": [],
   "source": [
    "# vegetation layer cover fraction: LCF\n",
    "\n",
    "def comp_lcf(points, heights, vcf):\n",
    "    \"\"\"\n",
    "    Compute LCF as per the TERN product manual:\n",
    "    \n",
    "    LCF = VCF * (((veg returns below H2) - (veg returns below H1)) / (veg returns below H2))\n",
    "    \n",
    "    Inputs:\n",
    "    - a set of points to compute LCF over\n",
    "    - a height threshold pair, containing H1 and H2 as an array [h1, h2]\n",
    "    - a precomputed VCF\n",
    "    \n",
    "    Outputs:\n",
    "    - a floating point number denoting LCF\n",
    "    \n",
    "    Conditions:\n",
    "    \n",
    "    The LCF *must* be computed over the same set of points as the VCF used as input.\n",
    "    \n",
    "    \"\"\"\n",
    "    \n",
    "    h1 = heights[0]\n",
    "    h2 = heights[1]\n",
    "    \n",
    "    #find veg returns - ASPRS classes 3,4,5\n",
    "    veg_returns = np.where(np.logical_or(points[\"Classification\"].values == 3,\n",
    "                             points[\"Classification\"].values == 4,\n",
    "                             points[\"Classification\"].values == 5))\n",
    "    # how many veg returns have height below the first threshold?\n",
    "    vegbelowh1 = np.size(np.where(points[\"HeightAboveGround\"][vegreturns] < h1))\n",
    "    \n",
    "    # how many veg returns have height below the second threshold?\n",
    "    vegbelowh2 = np.size(np.where(points[\"HeightAboveGround\"][vegreturns] < h2))\n",
    "    \n",
    "    # compute the LCF\n",
    "    lcf = vcf * ( (vegbelowh2 - vegbelowh1) / vegbelowh2)\n",
    "    \n",
    "    return(lcf)\n"
   ]
  },
  {
   "cell_type": "code",
   "execution_count": 7,
   "metadata": {},
   "outputs": [],
   "source": [
    "#CTH - TERN product manual says 'highest vegetation point', MATLAB code says '0.95 quantile of\n",
    "# vegetation returns above 2m'. Below 2m is ignored\n",
    "\n",
    "def comp_cth(points):\n",
    "    # compute the highest vegetation point in each grid cell\n",
    "    \n",
    "    veg_returns = np.where(np.logical_or(points[\"Classification\"].values == 3,\n",
    "                             points[\"Classification\"].values == 4,\n",
    "                             points[\"Classification\"].values == 5))\n",
    "\n",
    "    try:\n",
    "        \n",
    "        vegpoints = points[\"HeightAboveGround\"].values[veg_returns]\n",
    "        canopy_index = np.where(vegpoints > 2.0)\n",
    "        \n",
    "        if (np.size(canopy_index) > 0):\n",
    "            cth = np.quantile(vegpoints[canopy_index], 0.95)\n",
    "        else:\n",
    "            cth = NODATA_VALUE\n",
    "                \n",
    "    except ValueError:\n",
    "        #print('no vegetation returns were present, CTH set to {}'.format(NODATA_VALUE))\n",
    "        cth = NODATA_VALUE\n",
    "\n",
    "    return(cth)"
   ]
  },
  {
   "cell_type": "code",
   "execution_count": 8,
   "metadata": {},
   "outputs": [],
   "source": [
    "#CBH - ambiguous in TERN docs, will pull from MATLAB code\n",
    "# there, it states that CBH is the 0.1th percentile of vegetation with normalised height\n",
    "# above 2m\n",
    "def comp_cbh(points):\n",
    "    # compute the canopy base height in each cell.\n",
    "    \n",
    "    # grab an index of vegetation returns\n",
    "    veg_returns = np.where(np.logical_or(points[\"Classification\"].values == 3,\n",
    "                             points[\"Classification\"].values == 4,\n",
    "                             points[\"Classification\"].values == 5))\n",
    "    try:\n",
    "        #create an array of vegetation point normalised heights\n",
    "        vegpoints = points[\"HeightAboveGround\"].values[veg_returns]\n",
    "        canopy_index = np.where(vegpoints > 2.0)\n",
    "        if(np.size(canopy_index) > 0 ):\n",
    "            #find the 0.1 quantile\n",
    "            cbh = np.quantile(vegpoints[canopy_index], 0.10)\n",
    "        else:\n",
    "            cbh = NODATA_VALUE\n",
    "    \n",
    "    except ValueError:\n",
    "        #if there are no veg points, set cth to NODATA\n",
    "        \n",
    "        #print('no vegetation returns were present, CTH set to {}'.format(NODATA_VALUE))\n",
    "        cbh = NODATA_VALUE\n",
    "\n",
    "    return(cbh)"
   ]
  },
  {
   "cell_type": "code",
   "execution_count": 9,
   "metadata": {},
   "outputs": [],
   "source": [
    "def comp_dem(points):\n",
    "    # interpolate ground returns in a grid and output a raster\n",
    "    # this is likely to be handled by PDAL... or GDAL\n",
    "    \n",
    "    return()"
   ]
  },
  {
   "cell_type": "code",
   "execution_count": 10,
   "metadata": {},
   "outputs": [],
   "source": [
    "def comp_fbf(points):\n",
    "    # if building classes exist, compute a fractional cover per grid cell...\n",
    "    # if no buildings exist return 0\n",
    "    \n",
    "    building_returns = np.where(points[\"Classification\"].values == 6)\n",
    "    \n",
    "    totalpoints = np.size(points[\"Classification\"])\n",
    "    \n",
    "    buildingpoints = np.size(building_returns)\n",
    "    \n",
    "    if (buildingpoints > 0):\n",
    "        fbf = buildingpoints/totalpoints\n",
    "    else:\n",
    "        fbf = 0\n",
    "        \n",
    "    return(fbf)"
   ]
  },
  {
   "cell_type": "code",
   "execution_count": 11,
   "metadata": {},
   "outputs": [],
   "source": [
    "def read_data(lasfile):\n",
    "    \"\"\"\n",
    "    wrapper to read in LAS data and produce a dataframe + spatial index\n",
    "    \"\"\"\n",
    "    \n",
    "    metadata = readlasmetadata(lasfile)\n",
    "    \n",
    "    points = readlasfile(lasfile)\n",
    "    \n",
    "    dataframe, spatial_index = pdal2df(points)\n",
    "    \n",
    "    return(metadata, dataframe, spatial_index)\n",
    "    "
   ]
  },
  {
   "cell_type": "code",
   "execution_count": 12,
   "metadata": {},
   "outputs": [],
   "source": [
    "def make_file_rootname(lasfile):\n",
    "    filebits = lasfile.split(\"/\")\n",
    "    infilename = filebits[-1]\n",
    "    fileroot = infilename[:-4]\n",
    "    return(fileroot)"
   ]
  },
  {
   "cell_type": "code",
   "execution_count": 62,
   "metadata": {},
   "outputs": [],
   "source": [
    "def compute_tern_products(metadata, points, sindex, resolution, lasfile, outpath):\n",
    "    \"\"\"\n",
    "    Wrapper to iterate over the input data and generate rasters for each product.\n",
    "    \n",
    "    *note this part could be paralellised - maybe per-product, or per-cell\n",
    "    \n",
    "    Each grid square processed in this loop corresponds to one pixel in an output raster.\n",
    "    \n",
    "    \"\"\"\n",
    "    \n",
    "    #set up an 'output resolution' sized grid - like a fishnet grid.\n",
    "    # each polygon in the resulting set covers an area of 'resolution X resolution'\n",
    "    pixel_grid = gen_raster_cells(metadata, resolution)\n",
    "    \n",
    "    #set up output rasters\n",
    "    \n",
    "    # get tile width and height\n",
    "    tile_width = metadata[\"metadata\"][\"readers.las\"][\"maxx\"] - metadata[\"metadata\"][\"readers.las\"][\"minx\"]\n",
    "    tile_height = metadata[\"metadata\"][\"readers.las\"][\"maxy\"] - metadata[\"metadata\"][\"readers.las\"][\"miny\"]\n",
    "\n",
    "    raster_xsize = int(np.ceil(tile_width) / resolution)\n",
    "    raster_ysize = int(np.ceil(tile_height) / resolution)\n",
    "    \n",
    "    #replicate for all products...\n",
    "    vcf_raster = np.zeros((raster_xsize, raster_ysize))\n",
    "    lcf_raster = np.zeros((raster_xsize, raster_ysize))\n",
    "    cth_raster = np.zeros((raster_xsize, raster_ysize))\n",
    "    cbh_raster = np.zeros((raster_xsize, raster_ysize))\n",
    "    fbf_raster = np.zeros((raster_xsize, raster_ysize))\n",
    "    cli_raster = np.zeros((raster_xsize, raster_ysize))\n",
    "    \n",
    "    #internal loop around grid squares covering the LAS tile.\n",
    "    # this is another ppoint for parallelisation - since we can set up a list of geometries\n",
    "    # and cast that at multipuple processes, setting up one process per grid square\n",
    "    # another way to do this would be to recast this loop block into a function which can  \n",
    "    # be called by one process per product\n",
    "    # the second strategy seems easier, then only one process is trying to write into each\n",
    "    # output array.\n",
    "    \n",
    "    for pixel in pixel_grid:\n",
    "        \n",
    "        #compute output array index for this cell:\n",
    "        poly_x, poly_y = pixel.centroid.xy\n",
    "        \n",
    "        poly_base_x = poly_x[0] - metadata[\"metadata\"][\"readers.las\"][\"minx\"]\n",
    "        poly_base_y = poly_y[0] - metadata[\"metadata\"][\"readers.las\"][\"miny\"]\n",
    "        \n",
    "        array_x = int(np.floor((poly_base_x / (resolution)) ))\n",
    "        array_y = int(np.floor((poly_base_y / (resolution)) ))\n",
    "                \n",
    "        #get points for this cell\n",
    "        matches = get_cell_points(pixel, points, sindex)\n",
    "        \n",
    "        #compute in order\n",
    "        #VCF\n",
    "        vcf_raster[array_x, array_y] = comp_vcf(matches)\n",
    "        \n",
    "        \n",
    "        #LCF - need stuff about levels here...\n",
    "        #lcf_raster[array_x, array_y] = comp_lcf(points)\n",
    "        \n",
    "        #CTH\n",
    "        cth_raster[array_x, array_y] = comp_cth(matches)\n",
    "        \n",
    "        #CBH\n",
    "        cbh_raster[array_x, array_y] = comp_cbh(matches)\n",
    "        \n",
    "        #FBF\n",
    "        fbf_raster[array_x, array_y] = comp_fbf(matches)\n",
    "        \n",
    "        #CLI\n",
    "        cli_raster[array_x, array_y] = comp_cli(matches)\n",
    "        \n",
    "        \n",
    "    #end of computing stuff, time to make outputs...\n",
    "    \n",
    "    #set up GDAL parameters\n",
    "    \n",
    "    wktcrs = metadata[\"metadata\"][\"readers.las\"][\"comp_spatialreference\"]\n",
    "    \n",
    "    raster_parameters = {}\n",
    "    raster_parameters[\"width\"] = np.shape(vcf_raster)[0]\n",
    "    raster_parameters[\"height\"] = np.shape(vcf_raster)[1]\n",
    "    raster_parameters[\"upperleft_x\"] = metadata[\"metadata\"][\"readers.las\"][\"minx\"]\n",
    "    raster_parameters[\"upperleft_y\"] = metadata[\"metadata\"][\"readers.las\"][\"maxy\"]\n",
    "    raster_parameters[\"resolution\"] = resolution\n",
    "    raster_parameters[\"projection\"] = wktcrs\n",
    "    \n",
    "    if (not os.path.isdir(outpath + \"/vcf\")):\n",
    "        os.mkdir(outpath + \"/vcf\")\n",
    "    if (not os.path.isdir(outpath + \"/cth\")):\n",
    "        os.mkdir(outpath + \"/cth\")\n",
    "    if (not os.path.isdir(outpath + \"/cbh\")):\n",
    "        os.mkdir(outpath + \"/cbh\")\n",
    "    if (not os.path.isdir(outpath + \"/fbf\")):\n",
    "        os.mkdir(outpath + \"/fbf\")\n",
    "    if (not os.path.isdir(outpath + \"/cli\")):\n",
    "        os.mkdir(outpath + \"/cli\")\n",
    "        \n",
    "    fileroot = make_file_rootname(lasfile)\n",
    "\n",
    "    #set output filenames\n",
    "    vcf_raster_path = outpath + \"/vcf/\" + fileroot + \"-VCF-\" + str(resolution) + \"m.tiff\"\n",
    "    cth_raster_path = outpath + \"/cth/\" + fileroot + \"-CTH-\" + str(resolution) + \"m.tiff\"\n",
    "    cbh_raster_path = outpath + \"/cbh/\" + fileroot + \"-CBH-\" + str(resolution) + \"m.tiff\"\n",
    "    fbf_raster_path = outpath + \"/fbf/\" + fileroot + \"-FBF-\" + str(resolution) + \"m.tiff\"\n",
    "    cli_raster_path = outpath + \"/cli/\" + fileroot + \"-CLI-\" + str(resolution) + \"m.tiff\"\n",
    "\n",
    "\n",
    "    #write geotiffs and return arrays for inspection...\n",
    "\n",
    "    write_product_geotiff(vcf_raster, vcf_raster_path, raster_parameters)\n",
    "    write_product_geotiff(cth_raster, cth_raster_path, raster_parameters)\n",
    "    write_product_geotiff(cbh_raster, cbh_raster_path, raster_parameters)\n",
    "    write_product_geotiff(fbf_raster, fbf_raster_path, raster_parameters)\n",
    "    write_product_geotiff(cli_raster, cli_raster_path, raster_parameters)\n",
    "    \n",
    "    tern_products = {}\n",
    "    tern_products[\"vcf\"] = vcf_raster\n",
    "    tern_products[\"cth\"] = cth_raster\n",
    "    tern_products[\"cbh\"] = cbh_raster\n",
    "    tern_products[\"fbf\"] = fbf_raster\n",
    "    tern_products[\"cli\"] = cli_raster\n",
    "    \n",
    "    return(tern_products)"
   ]
  },
  {
   "cell_type": "markdown",
   "metadata": {},
   "source": [
    "## Testing functionality using a local file\n",
    "The following section generates metrics from a local LAZ file. Plugging in download mechanics from ELVIS will be added later"
   ]
  },
  {
   "cell_type": "code",
   "execution_count": 14,
   "metadata": {},
   "outputs": [],
   "source": [
    "#lidar test file - Mt Ainslie, chosen for varied vegetation cover and topography\n",
    "# this is pretty big, try it out if you've got more resources than my macbook pro!\n",
    "\n",
    "# thinking ahead, there will probably end up being a file splitting pre-process for \n",
    "# tiles like these... capping at say, 20 mill points. Sorting data before splitting\n",
    "# will be essential.\n",
    "\n",
    "#lasfile = \"/Volumes/Antares/ACT-lidar/8ppm/callingelvis-testdata/ACT2015_8ppm-C3-AHD_6966094_55.laz\""
   ]
  },
  {
   "cell_type": "code",
   "execution_count": 15,
   "metadata": {},
   "outputs": [],
   "source": [
    "#lasfile = \"/Volumes/Antares/fire-test/NSW Government - Spatial Services-2/Point Clouds/AHD/StAlbans201709-LID2-C3-AHD_2866308_56_0002_0002/StAlbans201709-LID2-C3-AHD_2866308_56_0002_0002.las\""
   ]
  },
  {
   "cell_type": "code",
   "execution_count": 16,
   "metadata": {},
   "outputs": [],
   "source": [
    "lasfile = \"../../callingelvis-sampledata/Berridale201802-LID2-C3-AHD_6585974_55_0002_0002.las\""
   ]
  },
  {
   "cell_type": "code",
   "execution_count": null,
   "metadata": {},
   "outputs": [],
   "source": []
  },
  {
   "cell_type": "code",
   "execution_count": 17,
   "metadata": {},
   "outputs": [],
   "source": [
    "# dump everything from memory\n",
    "points = None\n",
    "df = None\n",
    "vcf_raster = None\n",
    "cth_raster = None\n",
    "fbf_raster = None"
   ]
  },
  {
   "cell_type": "code",
   "execution_count": 25,
   "metadata": {},
   "outputs": [],
   "source": [
    "metadata = readlasmetadata(lasfile)"
   ]
  },
  {
   "cell_type": "code",
   "execution_count": 26,
   "metadata": {},
   "outputs": [
    {
     "name": "stdout",
     "output_type": "stream",
     "text": [
      "CPU times: user 8.05 s, sys: 201 ms, total: 8.25 s\n",
      "Wall time: 8.24 s\n"
     ]
    }
   ],
   "source": [
    "%%time\n",
    "# this part of the process is simply reading from the source file. No analysis yet.\n",
    "\n",
    "points = readlasfile(lasfile)"
   ]
  },
  {
   "cell_type": "code",
   "execution_count": 43,
   "metadata": {},
   "outputs": [],
   "source": [
    "# uncomment to examine LAS metadata\n",
    "#metadata"
   ]
  },
  {
   "cell_type": "code",
   "execution_count": 28,
   "metadata": {},
   "outputs": [
    {
     "name": "stdout",
     "output_type": "stream",
     "text": [
      "CPU times: user 1min 16s, sys: 1.4 s, total: 1min 18s\n",
      "Wall time: 1min 18s\n"
     ]
    }
   ],
   "source": [
    "%%time\n",
    "\n",
    "#here we read points into a GeoDataFrame and dump the labelled array.\n",
    "# this is a pretty expensive step RAM wise, we're duplicating all the points...\n",
    "\n",
    "df = pdal2df(points)\n",
    "\n",
    "# set the points structured array to None, it isn't used anymore\n",
    "points = None"
   ]
  },
  {
   "cell_type": "code",
   "execution_count": 29,
   "metadata": {
    "scrolled": true
   },
   "outputs": [
    {
     "name": "stdout",
     "output_type": "stream",
     "text": [
      "CPU times: user 1min 58s, sys: 1.9 s, total: 2min\n",
      "Wall time: 2min 1s\n"
     ]
    }
   ],
   "source": [
    "%%time\n",
    "\n",
    "# here we generate an RTree index on the dataframe using GeoPandas.\n",
    "# also pretty expensive... \n",
    "\n",
    "sindex = spatialindex(df)"
   ]
  },
  {
   "cell_type": "code",
   "execution_count": 35,
   "metadata": {},
   "outputs": [],
   "source": [
    "# set an output resolution\n",
    "\n",
    "resolution = 25"
   ]
  },
  {
   "cell_type": "code",
   "execution_count": 39,
   "metadata": {},
   "outputs": [
    {
     "data": {
      "text/plain": [
       "658000"
      ]
     },
     "execution_count": 39,
     "metadata": {},
     "output_type": "execute_result"
    }
   ],
   "source": [
    "metadata[\"metadata\"][\"readers.las\"][\"minx\"]"
   ]
  },
  {
   "cell_type": "code",
   "execution_count": 71,
   "metadata": {},
   "outputs": [
    {
     "name": "stdout",
     "output_type": "stream",
     "text": [
      "CPU times: user 44.2 s, sys: 68.9 ms, total: 44.2 s\n",
      "Wall time: 44.3 s\n"
     ]
    }
   ],
   "source": [
    "%%time\n",
    "\n",
    "#produce some rasters!\n",
    "\n",
    "tern_products = compute_tern_products(metadata, df, sindex, resolution, lasfile, \"../../\")"
   ]
  },
  {
   "cell_type": "code",
   "execution_count": 48,
   "metadata": {},
   "outputs": [],
   "source": [
    "this = np.array([1,2,3,4,6])"
   ]
  },
  {
   "cell_type": "code",
   "execution_count": 49,
   "metadata": {},
   "outputs": [],
   "source": [
    "that = np.where(this > 7.0)"
   ]
  },
  {
   "cell_type": "code",
   "execution_count": null,
   "metadata": {},
   "outputs": [],
   "source": [
    "np.size(that)"
   ]
  },
  {
   "cell_type": "code",
   "execution_count": 54,
   "metadata": {},
   "outputs": [],
   "source": [
    "from matplotlib import pyplot as plt\n",
    "\n",
    "%matplotlib inline"
   ]
  },
  {
   "cell_type": "code",
   "execution_count": 55,
   "metadata": {},
   "outputs": [
    {
     "data": {
      "text/plain": [
       "Text(0.5, 1.0, 'Vegetation cover fraction (VCF)')"
      ]
     },
     "execution_count": 55,
     "metadata": {},
     "output_type": "execute_result"
    },
    {
     "data": {
      "image/png": "[encoded data removed]",
      "text/plain": [
       "<Figure size 432x288 with 2 Axes>"
      ]
     },
     "metadata": {
      "needs_background": "light"
     },
     "output_type": "display_data"
    }
   ],
   "source": [
    "plt.imshow(np.rot90(tern_products[\"vcf\"]))\n",
    "plt.colorbar()\n",
    "plt.title(\"Vegetation cover fraction (VCF)\")"
   ]
  },
  {
   "cell_type": "code",
   "execution_count": 56,
   "metadata": {},
   "outputs": [
    {
     "data": {
      "text/plain": [
       "Text(0.5, 1.0, 'Canopy top height (CTH)')"
      ]
     },
     "execution_count": 56,
     "metadata": {},
     "output_type": "execute_result"
    },
    {
     "data": {
      "image/png": "[encoded data removed]",
      "text/plain": [
       "<Figure size 432x288 with 2 Axes>"
      ]
     },
     "metadata": {
      "needs_background": "light"
     },
     "output_type": "display_data"
    }
   ],
   "source": [
    "plt.imshow(np.rot90(tern_products[\"cth\"]), vmin = 0)\n",
    "plt.colorbar()\n",
    "plt.title(\"Canopy top height (CTH)\")\n"
   ]
  },
  {
   "cell_type": "code",
   "execution_count": 57,
   "metadata": {},
   "outputs": [
    {
     "data": {
      "text/plain": [
       "Text(0.5, 1.0, 'Canopy base height (CBH)')"
      ]
     },
     "execution_count": 57,
     "metadata": {},
     "output_type": "execute_result"
    },
    {
     "data": {
      "image/png": "[encoded data removed]",
      "text/plain": [
       "<Figure size 432x288 with 2 Axes>"
      ]
     },
     "metadata": {
      "needs_background": "light"
     },
     "output_type": "display_data"
    }
   ],
   "source": [
    "plt.imshow(np.rot90(tern_products[\"cbh\"]), vmin = 0)\n",
    "plt.colorbar()\n",
    "plt.title(\"Canopy base height (CBH)\")"
   ]
  },
  {
   "cell_type": "code",
   "execution_count": 58,
   "metadata": {},
   "outputs": [
    {
     "data": {
      "text/plain": [
       "Text(0.5, 1.0, 'Canopy top and base height difference')"
      ]
     },
     "execution_count": 58,
     "metadata": {},
     "output_type": "execute_result"
    },
    {
     "data": {
      "image/png": "[encoded data removed]",
      "text/plain": [
       "<Figure size 432x288 with 2 Axes>"
      ]
     },
     "metadata": {
      "needs_background": "light"
     },
     "output_type": "display_data"
    }
   ],
   "source": [
    "plt.imshow(np.rot90(tern_products[\"cth\"] -tern_products[\"cbh\"]))\n",
    "plt.colorbar()\n",
    "plt.title(\"Canopy top and base height difference\")"
   ]
  },
  {
   "cell_type": "code",
   "execution_count": 60,
   "metadata": {},
   "outputs": [
    {
     "data": {
      "text/plain": [
       "Text(0.5, 1.0, 'Building fraction (FBF)')"
      ]
     },
     "execution_count": 60,
     "metadata": {},
     "output_type": "execute_result"
    },
    {
     "data": {
      "image/png": "[encoded data removed]",
      "text/plain": [
       "<Figure size 432x288 with 2 Axes>"
      ]
     },
     "metadata": {
      "needs_background": "light"
     },
     "output_type": "display_data"
    }
   ],
   "source": [
    "plt.imshow(np.rot90(tern_products[\"fbf\"]))\n",
    "plt.colorbar()\n",
    "plt.title(\"Building fraction (FBF)\")"
   ]
  },
  {
   "cell_type": "code",
   "execution_count": 73,
   "metadata": {},
   "outputs": [
    {
     "data": {
      "text/plain": [
       "Text(0.5, 1.0, 'Canopy Layering Index (CLI)')"
      ]
     },
     "execution_count": 73,
     "metadata": {},
     "output_type": "execute_result"
    },
    {
     "data": {
      "image/png": "[encoded data removed]",
      "text/plain": [
       "<Figure size 432x288 with 2 Axes>"
      ]
     },
     "metadata": {
      "needs_background": "light"
     },
     "output_type": "display_data"
    }
   ],
   "source": [
    "plt.imshow(np.rot90(tern_products[\"cli\"]))\n",
    "plt.colorbar()\n",
    "plt.title(\"Canopy Layering Index (CLI)\")"
   ]
  },
  {
   "cell_type": "code",
   "execution_count": 75,
   "metadata": {},
   "outputs": [],
   "source": [
    "polygons = gen_raster_cells(metadata, resolution)"
   ]
  },
  {
   "cell_type": "code",
   "execution_count": 93,
   "metadata": {},
   "outputs": [
    {
     "data": {
      "image/svg+xml": [
       "<svg xmlns=\"http://www.w3.org/2000/svg\" xmlns:xlink=\"http://www.w3.org/1999/xlink\" width=\"100.0\" height=\"100.0\" viewBox=\"657999.000000027 5974974.000000027 26.99999994598329 26.99999994598329\" preserveAspectRatio=\"xMinYMin meet\"><g transform=\"matrix(1,0,0,-1,0,11949975.0)\"><path fill-rule=\"evenodd\" fill=\"#66cc99\" stroke=\"#555555\" stroke-width=\"0.5399999989196658\" opacity=\"0.6\" d=\"M 658000.000000025,5974999.999999975 L 658024.999999975,5974999.999999975 L 658024.999999975,5974975.000000025 L 658000.000000025,5974975.000000025 L 658000.000000025,5974999.999999975 z\" /></g></svg>"
      ],
      "text/plain": [
       "<shapely.geometry.polygon.Polygon at 0x1238c5048>"
      ]
     },
     "execution_count": 93,
     "metadata": {},
     "output_type": "execute_result"
    }
   ],
   "source": [
    "polygons[40]"
   ]
  },
  {
   "cell_type": "code",
   "execution_count": 98,
   "metadata": {},
   "outputs": [],
   "source": [
    "matches = get_cell_points(polygons[40], df, sindex)"
   ]
  },
  {
   "cell_type": "code",
   "execution_count": 99,
   "metadata": {},
   "outputs": [
    {
     "name": "stdout",
     "output_type": "stream",
     "text": [
      "3\n",
      "1\n",
      "1\n",
      "1.0\n",
      "1763\n",
      "2\n",
      "0.5\n",
      "287\n",
      "3\n",
      "0.3333333333333333\n",
      "1\n"
     ]
    },
    {
     "data": {
      "text/plain": [
       "1039.090909090909"
      ]
     },
     "execution_count": 99,
     "metadata": {},
     "output_type": "execute_result"
    }
   ],
   "source": [
    "comp_cli(matches)"
   ]
  },
  {
   "cell_type": "code",
   "execution_count": 104,
   "metadata": {},
   "outputs": [],
   "source": [
    "# Canopy layering index:\n",
    "\n",
    "# (sum(weight * MaxNumberOfreturns * numberofpointsatreturn) / sum(weight * MaxNumberofReturns)) - 1\n",
    "\n",
    "def comp_cli(points):\n",
    "    maxreturns = np.max(points[\"NumberOfReturns\"])\n",
    "    print(maxreturns)\n",
    "    minreturns = np.min(points[\"NumberOfReturns\"])\n",
    "    print(minreturns)\n",
    "    \n",
    "    cli_numerator = []\n",
    "    cli_denominator = []\n",
    "    \n",
    "    for nreturn in np.arange(minreturns, maxreturns+1, 1):\n",
    "        # I don't really understand the fixed values in the weighting function - we can record \n",
    "        # a lot more returns... I get that it's supposed to give higher return numbers a lower\n",
    "        # weight based on likelihood of being recorded..\n",
    "        \n",
    "        print(nreturn)\n",
    "        weight = 1/min([5,nreturn])\n",
    "        print(weight)\n",
    "        \n",
    "        points_at_return = np.where(points[\"ReturnNumber\"] == nreturn)\n",
    "        print(np.size(points_at_return))\n",
    "        \n",
    "        cli_numerator.append(weight  * np.size(points_at_return) * maxreturns )\n",
    "        \n",
    "        cli_denominator.append( weight * maxreturns )\n",
    "        \n",
    "    \n",
    "    print(cli_numerator)\n",
    "    print(cli_denominator)\n",
    "    cli = (np.sum(cli_numerator) / np.sum(cli_denominator)) - 1\n",
    "        \n",
    "    return(cli)"
   ]
  },
  {
   "cell_type": "code",
   "execution_count": 105,
   "metadata": {},
   "outputs": [
    {
     "name": "stdout",
     "output_type": "stream",
     "text": [
      "3\n",
      "1\n",
      "1\n",
      "1.0\n",
      "1763\n",
      "2\n",
      "0.5\n",
      "287\n",
      "3\n",
      "0.3333333333333333\n",
      "1\n",
      "[5289.0, 430.5, 1.0]\n",
      "[3.0, 1.5, 1.0]\n"
     ]
    },
    {
     "data": {
      "text/plain": [
       "1039.090909090909"
      ]
     },
     "execution_count": 105,
     "metadata": {},
     "output_type": "execute_result"
    }
   ],
   "source": [
    "comp_cli(matches)"
   ]
  },
  {
   "cell_type": "markdown",
   "metadata": {},
   "source": [
    "## code purgatory"
   ]
  },
  {
   "cell_type": "code",
   "execution_count": null,
   "metadata": {},
   "outputs": [],
   "source": [
    "\n",
    "# an attempt at building an index without pandas. Pandas was far easier\n",
    "\"\"\"\n",
    "%%time\n",
    "\n",
    "\n",
    "## rtree index building straight from the point dataset... which also duplicates the point set...\n",
    "\n",
    "idx = index.Index()\n",
    "for pid, point in enumerate(points[0]):\n",
    "    idx.insert(pid, (point[0], point[1],point[0], point[1]), point)\n",
    "\"\"\""
   ]
  }
 ],
 "metadata": {
  "kernelspec": {
   "display_name": "Python 3",
   "language": "python",
   "name": "python3"
  },
  "language_info": {
   "codemirror_mode": {
    "name": "ipython",
    "version": 3
   },
   "file_extension": ".py",
   "mimetype": "text/x-python",
   "name": "python",
   "nbconvert_exporter": "python",
   "pygments_lexer": "ipython3",
   "version": "3.6.7"
  }
 },
 "nbformat": 4,
 "nbformat_minor": 2
}
